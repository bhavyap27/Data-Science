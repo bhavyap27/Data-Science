{
 "cells": [
  {
   "cell_type": "markdown",
   "id": "0d1049e1",
   "metadata": {},
   "source": [
    "# TOPIC: String Based Assignment Problem"
   ]
  },
  {
   "cell_type": "markdown",
   "id": "050693f1",
   "metadata": {},
   "source": [
    "1. Write a program to reverse a string."
   ]
  },
  {
   "cell_type": "code",
   "execution_count": 2,
   "id": "2e84f419",
   "metadata": {},
   "outputs": [
    {
     "name": "stdout",
     "output_type": "stream",
     "text": [
      "Enter string :pwskills\n",
      "Reversed string : sllikswp\n"
     ]
    }
   ],
   "source": [
    "str=input(\"Enter string :\")\n",
    "print(\"Reversed string :\",str[::-1])"
   ]
  },
  {
   "cell_type": "markdown",
   "id": "4416da95",
   "metadata": {},
   "source": [
    "2. Check if a string is a palindrome."
   ]
  },
  {
   "cell_type": "code",
   "execution_count": 41,
   "id": "f221f1a7",
   "metadata": {},
   "outputs": [
    {
     "name": "stdout",
     "output_type": "stream",
     "text": [
      "Enter string :non\n",
      "string is palindrome\n"
     ]
    }
   ],
   "source": [
    "string=input(\"Enter string :\")\n",
    "rev=string[::-1]\n",
    "if(string==rev):\n",
    "    print(\"string is palindrome\")\n",
    "else:\n",
    "    print(\"string is not palindrome\")"
   ]
  },
  {
   "cell_type": "markdown",
   "id": "d70e81b2",
   "metadata": {},
   "source": [
    "3. Convert a string to uppercase."
   ]
  },
  {
   "cell_type": "code",
   "execution_count": 43,
   "id": "907f9834",
   "metadata": {},
   "outputs": [
    {
     "name": "stdout",
     "output_type": "stream",
     "text": [
      "Enter string :bHavya\n"
     ]
    },
    {
     "data": {
      "text/plain": [
       "'BHAVYA'"
      ]
     },
     "execution_count": 43,
     "metadata": {},
     "output_type": "execute_result"
    }
   ],
   "source": [
    "string= input(\"Enter string :\")\n",
    "string.upper()"
   ]
  },
  {
   "cell_type": "markdown",
   "id": "79970eb8",
   "metadata": {},
   "source": [
    "4. Convert a string to lowercase."
   ]
  },
  {
   "cell_type": "code",
   "execution_count": 44,
   "id": "05b52d11",
   "metadata": {},
   "outputs": [
    {
     "name": "stdout",
     "output_type": "stream",
     "text": [
      "Enter string :NaME\n"
     ]
    },
    {
     "data": {
      "text/plain": [
       "'name'"
      ]
     },
     "execution_count": 44,
     "metadata": {},
     "output_type": "execute_result"
    }
   ],
   "source": [
    "string= input(\"Enter string :\")\n",
    "string.lower()"
   ]
  },
  {
   "cell_type": "markdown",
   "id": "8697908d",
   "metadata": {},
   "source": [
    "5. Count the number of vowels in a string."
   ]
  },
  {
   "cell_type": "code",
   "execution_count": 4,
   "id": "eac9632d",
   "metadata": {},
   "outputs": [
    {
     "name": "stdout",
     "output_type": "stream",
     "text": [
      "Total vowels in the sentence are  7\n"
     ]
    }
   ],
   "source": [
    "input_string = \"Hello, my name is bhavya \"\n",
    "vowel_count = 0\n",
    "vowels = \"aeiou\"\n",
    "\n",
    "for i in input_string:\n",
    "    if i in vowels:\n",
    "        vowel_count +=1\n",
    "print(\"Total vowels in the sentence are \", vowel_count)"
   ]
  },
  {
   "cell_type": "markdown",
   "id": "4db8f90c",
   "metadata": {},
   "source": [
    "6. Count the number of consonants in a string."
   ]
  },
  {
   "cell_type": "code",
   "execution_count": 13,
   "id": "e342ad59",
   "metadata": {},
   "outputs": [
    {
     "name": "stdout",
     "output_type": "stream",
     "text": [
      "Total consonants in the sentence are  12\n"
     ]
    }
   ],
   "source": [
    "input_string = \"Hello, my name is bhavya \"\n",
    "cons_count = 0\n",
    "vowels = \"aeiou\"\n",
    "\n",
    "for i in input_string:\n",
    "    if i not in vowels and i.isalpha():\n",
    "        cons_count +=1\n",
    "print(\"Total consonants in the sentence are \", cons_count)"
   ]
  },
  {
   "cell_type": "markdown",
   "id": "e1471c20",
   "metadata": {},
   "source": [
    "7. Remove all whitespaces from a string."
   ]
  },
  {
   "cell_type": "code",
   "execution_count": 7,
   "id": "e9842fd1",
   "metadata": {},
   "outputs": [
    {
     "name": "stdout",
     "output_type": "stream",
     "text": [
      "Input string after removing spaces  Hello,mynameisbhavya\n"
     ]
    }
   ],
   "source": [
    "input_string = \"Hello, my name is bhavya \"\n",
    "print(\"Input string after removing spaces \", input_string.replace(\" \",\"\"))"
   ]
  },
  {
   "cell_type": "markdown",
   "id": "41ddb499",
   "metadata": {},
   "source": [
    "8. Find the length of a string without using the `len()` function."
   ]
  },
  {
   "cell_type": "code",
   "execution_count": 278,
   "id": "05a3802b",
   "metadata": {},
   "outputs": [
    {
     "name": "stdout",
     "output_type": "stream",
     "text": [
      "11\n",
      "11\n"
     ]
    }
   ],
   "source": [
    "string1 = \"intelligent\"\n",
    "\n",
    "print(sum([1 for i in string1]))\n",
    "# OR\n",
    "count = 0\n",
    "for i in string1:\n",
    "    count+=1\n",
    "print(count)"
   ]
  },
  {
   "cell_type": "markdown",
   "id": "0105ffae",
   "metadata": {},
   "source": [
    "9. Check if a string contains a specific word."
   ]
  },
  {
   "cell_type": "code",
   "execution_count": 15,
   "id": "3c8ae513",
   "metadata": {},
   "outputs": [
    {
     "name": "stdout",
     "output_type": "stream",
     "text": [
      "String contains  bhavya\n"
     ]
    }
   ],
   "source": [
    "input_string = \"Hello, my name is bhavya \"\n",
    "# check if string contains bhavya\n",
    "word = \"bhavya\"\n",
    "if word in input_string:\n",
    "    print(\"String contains \", word)\n",
    "else:\n",
    "    print(\"String doesn't contains \", word)"
   ]
  },
  {
   "cell_type": "markdown",
   "id": "3d75225c",
   "metadata": {},
   "source": [
    "10. Replace a word in a string with another word."
   ]
  },
  {
   "cell_type": "code",
   "execution_count": 16,
   "id": "5ace7481",
   "metadata": {},
   "outputs": [
    {
     "name": "stdout",
     "output_type": "stream",
     "text": [
      "Output String:  Hello, my name is basavaraj \n"
     ]
    }
   ],
   "source": [
    "input_string = \"Hello, my name is bhavya \"\n",
    "# replace bhavya with basavaraj\n",
    "word1 = \"bhavya\"\n",
    "word2 = \"basavaraj\"\n",
    "\n",
    "output = input_string.replace(word1, word2)\n",
    "print(\"Output String: \", output)"
   ]
  },
  {
   "cell_type": "markdown",
   "id": "7df2fcb1",
   "metadata": {},
   "source": [
    "11. Count the occurrences of a word in a string."
   ]
  },
  {
   "cell_type": "code",
   "execution_count": 22,
   "id": "3cfb847a",
   "metadata": {},
   "outputs": [
    {
     "name": "stdout",
     "output_type": "stream",
     "text": [
      "The word  bhavya  occurs  2  times in input string\n"
     ]
    }
   ],
   "source": [
    "input_string = \"Hello, my name is bhavya. bhavya is currently learning data science\"\n",
    "# Count occurances of word bhavya\n",
    "word = \"bhavya\"\n",
    "\n",
    "count = input_string.count(\"bhavya\")\n",
    "\n",
    "print(\"The word \", word, \" occurs \", count, \" times in input string\")"
   ]
  },
  {
   "cell_type": "markdown",
   "id": "6a16f43a",
   "metadata": {},
   "source": [
    "12. Find the first occurrence of a word in a string."
   ]
  },
  {
   "cell_type": "code",
   "execution_count": 23,
   "id": "5eea0f0c",
   "metadata": {},
   "outputs": [
    {
     "name": "stdout",
     "output_type": "stream",
     "text": [
      "The word  bhavya  occurs at  18  index\n"
     ]
    }
   ],
   "source": [
    "input_string = \"Hello, my name is bhavya. bhavya is currently learning data science\"\n",
    "# find the first occurance of the word bhavya\n",
    "word = \"bhavya\"\n",
    "\n",
    "index = input_string.find(\"bhavya\")\n",
    "\n",
    "print(\"The word \", word, \" occurs at \", index, \" index\")"
   ]
  },
  {
   "cell_type": "markdown",
   "id": "af702811",
   "metadata": {},
   "source": [
    "13. Find the last occurrence of a word in a string."
   ]
  },
  {
   "cell_type": "code",
   "execution_count": 27,
   "id": "6276aaea",
   "metadata": {},
   "outputs": [
    {
     "name": "stdout",
     "output_type": "stream",
     "text": [
      "The word  bhavya  occurs at last in the string at  26  index\n"
     ]
    }
   ],
   "source": [
    "input_string = \"Hello, my name is bhavya. bhavya is currently learning data science\"\n",
    "# find the last occurance of the word bhavya\n",
    "word = \"bhavya\"\n",
    "\n",
    "index = input_string.rfind(\"bhavya\")\n",
    "\n",
    "print(\"The word \", word, \" occurs at last in the string at \", index, \" index\")"
   ]
  },
  {
   "cell_type": "markdown",
   "id": "63710d67",
   "metadata": {},
   "source": [
    "14. Split a string into a list of words."
   ]
  },
  {
   "cell_type": "code",
   "execution_count": 29,
   "id": "49c6052f",
   "metadata": {},
   "outputs": [
    {
     "data": {
      "text/plain": [
       "['Hello,',\n",
       " 'my',\n",
       " 'name',\n",
       " 'is',\n",
       " 'bhavya.',\n",
       " 'bhavya',\n",
       " 'is',\n",
       " 'currently',\n",
       " 'learning',\n",
       " 'data',\n",
       " 'science']"
      ]
     },
     "execution_count": 29,
     "metadata": {},
     "output_type": "execute_result"
    }
   ],
   "source": [
    "input_string = \"Hello, my name is bhavya. bhavya is currently learning data science\"\n",
    "\n",
    "input_string.split()\n"
   ]
  },
  {
   "cell_type": "markdown",
   "id": "7187812b",
   "metadata": {},
   "source": [
    "15. Join a list of words into a string."
   ]
  },
  {
   "cell_type": "code",
   "execution_count": 31,
   "id": "5fc68ca6",
   "metadata": {},
   "outputs": [
    {
     "data": {
      "text/plain": [
       "'Hello, my name is bhavya. bhavya is currently learning data science'"
      ]
     },
     "execution_count": 31,
     "metadata": {},
     "output_type": "execute_result"
    }
   ],
   "source": [
    "words = ['Hello,','my', 'name', 'is', 'bhavya.', 'bhavya', 'is', 'currently', 'learning', 'data', 'science']\n",
    "\n",
    "\" \".join(words)"
   ]
  },
  {
   "cell_type": "markdown",
   "id": "2adcacfd",
   "metadata": {},
   "source": [
    "16. Convert a string where words are separated by spaces to one where words\n",
    "are separated by underscores."
   ]
  },
  {
   "cell_type": "code",
   "execution_count": 32,
   "id": "b377160d",
   "metadata": {},
   "outputs": [
    {
     "data": {
      "text/plain": [
       "'Hello,__my__name__is__bhavya.__bhavya__is__currently__learning__data__science'"
      ]
     },
     "execution_count": 32,
     "metadata": {},
     "output_type": "execute_result"
    }
   ],
   "source": [
    "input_string = \"Hello, my name is bhavya. bhavya is currently learning data science\"\n",
    "\n",
    "input_string.replace(\" \", \"__\")\n"
   ]
  },
  {
   "cell_type": "markdown",
   "id": "ef45d452",
   "metadata": {},
   "source": [
    "17. Check if a string starts with a specific word or phrase."
   ]
  },
  {
   "cell_type": "code",
   "execution_count": 36,
   "id": "31bcf461",
   "metadata": {},
   "outputs": [
    {
     "name": "stdout",
     "output_type": "stream",
     "text": [
      "No, it doesn't start with given word\n"
     ]
    }
   ],
   "source": [
    "input_string = \"Hello, my name is bhavya\"\n",
    "#check is string starts with word bhavya\n",
    "\n",
    "if input_string.startswith(\"bhavya\"):\n",
    "    print(\"Yes, it starts with given word\")\n",
    "else:\n",
    "    print(\"No, it doesn't start with given word\")"
   ]
  },
  {
   "cell_type": "markdown",
   "id": "0b5a2146",
   "metadata": {},
   "source": [
    "18. Check if a string ends with a specific word or phrase."
   ]
  },
  {
   "cell_type": "code",
   "execution_count": 37,
   "id": "6c0d3eb5",
   "metadata": {},
   "outputs": [
    {
     "name": "stdout",
     "output_type": "stream",
     "text": [
      "Yes, it ends with given word\n"
     ]
    }
   ],
   "source": [
    "input_string = \"Hello, my name is bhavya\"\n",
    "#check is string starts with word bhavya\n",
    "\n",
    "if input_string.endswith(\"bhavya\"):\n",
    "    print(\"Yes, it ends with given word\")\n",
    "else:\n",
    "    print(\"No, it doesn't end with given word\")"
   ]
  },
  {
   "cell_type": "markdown",
   "id": "684d4833",
   "metadata": {},
   "source": [
    "19. Convert a string to title case (e.g., \"hello world\" to \"Hello World\")."
   ]
  },
  {
   "cell_type": "code",
   "execution_count": 38,
   "id": "22f1d3e2",
   "metadata": {},
   "outputs": [
    {
     "data": {
      "text/plain": [
       "'hello, my name is bhavya'"
      ]
     },
     "execution_count": 38,
     "metadata": {},
     "output_type": "execute_result"
    }
   ],
   "source": [
    "input_string = \"Hello, my name is Bhavya\"\n",
    "\n",
    "input_string.lower()"
   ]
  },
  {
   "cell_type": "markdown",
   "id": "fbed43d4",
   "metadata": {},
   "source": [
    "20. Find the longest word in a string."
   ]
  },
  {
   "cell_type": "code",
   "execution_count": 52,
   "id": "34054ba7",
   "metadata": {},
   "outputs": [
    {
     "name": "stdout",
     "output_type": "stream",
     "text": [
      "The longest word in a string is  currently\n"
     ]
    }
   ],
   "source": [
    "input_string = \"Hello, my name is bhavya. bhavya is currently learning data science\"\n",
    "\n",
    "max_len = 0\n",
    "max_word = None\n",
    "for word in input_string.split():\n",
    "    if len(word) > max_len:\n",
    "        max_len = len(word)\n",
    "        max_word = word\n",
    "print(\"The longest word in a string is: \", max_word)"
   ]
  },
  {
   "cell_type": "markdown",
   "id": "23872b49",
   "metadata": {},
   "source": [
    "21. Find the shortest word in a string."
   ]
  },
  {
   "cell_type": "code",
   "execution_count": 55,
   "id": "29f8a9fe",
   "metadata": {},
   "outputs": [
    {
     "name": "stdout",
     "output_type": "stream",
     "text": [
      "The longest word in a string is:  my\n"
     ]
    }
   ],
   "source": [
    "input_string = \"Hello, my name is bhavya. bhavya is currently learning data science\"\n",
    "\n",
    "max_len = len(input_string.split()[0])\n",
    "max_word = input_string.split()[0]\n",
    "for word in input_string.split():\n",
    "    if len(word) < max_len:\n",
    "        max_len = len(word)\n",
    "        max_word = word\n",
    "print(\"The longest word in a string is: \", max_word)"
   ]
  },
  {
   "cell_type": "markdown",
   "id": "fc20cdb8",
   "metadata": {},
   "source": [
    "22. Reverse the order of words in a string."
   ]
  },
  {
   "cell_type": "code",
   "execution_count": 59,
   "id": "142d48c1",
   "metadata": {},
   "outputs": [
    {
     "data": {
      "text/plain": [
       "'science data learning currently is bhavya bhavya. is name my Hello,'"
      ]
     },
     "execution_count": 59,
     "metadata": {},
     "output_type": "execute_result"
    }
   ],
   "source": [
    "input_string = \"Hello, my name is bhavya. bhavya is currently learning data science\"\n",
    "\n",
    "\" \".join(input_string.split()[::-1])"
   ]
  },
  {
   "cell_type": "markdown",
   "id": "a7f13963",
   "metadata": {},
   "source": [
    "23. Check if a string is alphanumeric."
   ]
  },
  {
   "cell_type": "code",
   "execution_count": 67,
   "id": "c550c60e",
   "metadata": {},
   "outputs": [
    {
     "name": "stdout",
     "output_type": "stream",
     "text": [
      "String is alphanumeric\n",
      "String is not alphanumeric\n"
     ]
    }
   ],
   "source": [
    "input_string = \"hello\"\n",
    "\n",
    "if input_string.isalnum():\n",
    "    print(\"String is alphanumeric\")\n",
    "else:\n",
    "    print(\"String is not alphanumeric\")\n",
    "    \n",
    "input_string = \"hello ..!!\"\n",
    "if input_string.isalnum():\n",
    "    print(\"String is alphanumeric\")\n",
    "else:\n",
    "    print(\"String is not alphanumeric\")\n"
   ]
  },
  {
   "cell_type": "markdown",
   "id": "2cbc0821",
   "metadata": {},
   "source": [
    "24. Extract all digits from a string."
   ]
  },
  {
   "cell_type": "code",
   "execution_count": 70,
   "id": "f0cb222c",
   "metadata": {},
   "outputs": [
    {
     "name": "stdout",
     "output_type": "stream",
     "text": [
      "Digits from given string\n"
     ]
    },
    {
     "data": {
      "text/plain": [
       "['1', '5', '6', '1', '2', '3', '4', '5', '6']"
      ]
     },
     "execution_count": 70,
     "metadata": {},
     "output_type": "execute_result"
    }
   ],
   "source": [
    "input_string = \"Hello, my name is bhavya, my height is 156cm and roll nyumber is 123456\"\n",
    "\n",
    "print(\"Digits from given string\")\n",
    "[i for i in input_string if i.isdigit()]"
   ]
  },
  {
   "cell_type": "markdown",
   "id": "bd36fb8e",
   "metadata": {},
   "source": [
    "25. Extract all alphabets from a string."
   ]
  },
  {
   "cell_type": "code",
   "execution_count": 71,
   "id": "35f1cbda",
   "metadata": {},
   "outputs": [
    {
     "name": "stdout",
     "output_type": "stream",
     "text": [
      "Alphabets from given string\n"
     ]
    },
    {
     "data": {
      "text/plain": [
       "['b', 'u', 'c', 's']"
      ]
     },
     "execution_count": 71,
     "metadata": {},
     "output_type": "execute_result"
    }
   ],
   "source": [
    "input_string = \"2bu10cs01029334\"\n",
    "\n",
    "print(\"Alphabets from given string\")\n",
    "[i for i in input_string if i.isalpha()]"
   ]
  },
  {
   "cell_type": "markdown",
   "id": "1e6e29c9",
   "metadata": {},
   "source": [
    "26. Count the number of uppercase letters in a string."
   ]
  },
  {
   "cell_type": "code",
   "execution_count": 80,
   "id": "1310ce96",
   "metadata": {},
   "outputs": [
    {
     "name": "stdout",
     "output_type": "stream",
     "text": [
      "Number of uppercase letters in string  2\n"
     ]
    }
   ],
   "source": [
    "input_string = \"Hello, my name is Bhavya\"\n",
    "\n",
    "count = 0\n",
    "for i in input_string:\n",
    "    if i.isalpha():\n",
    "        if i.isupper():\n",
    "            count +=1\n",
    "print(\"Number of uppercase letters in string \", count)"
   ]
  },
  {
   "cell_type": "markdown",
   "id": "a7e5454c",
   "metadata": {},
   "source": [
    "27. Count the number of lowercase letters in a string."
   ]
  },
  {
   "cell_type": "code",
   "execution_count": 81,
   "id": "27597991",
   "metadata": {},
   "outputs": [
    {
     "name": "stdout",
     "output_type": "stream",
     "text": [
      "Number of uppercase letters in string  17\n"
     ]
    }
   ],
   "source": [
    "input_string = \"Hello, my name is Bhavya\"\n",
    "\n",
    "count = 0\n",
    "for i in input_string:\n",
    "    if i.isalpha():\n",
    "        if i.islower():\n",
    "            count +=1\n",
    "print(\"Number of uppercase letters in string \", count)"
   ]
  },
  {
   "cell_type": "markdown",
   "id": "506c5816",
   "metadata": {},
   "source": [
    "28. Swap the case of each character in a string."
   ]
  },
  {
   "cell_type": "code",
   "execution_count": 89,
   "id": "253bbd3b",
   "metadata": {},
   "outputs": [
    {
     "data": {
      "text/plain": [
       "'hELLO, MY NAME IS bHAVYA'"
      ]
     },
     "execution_count": 89,
     "metadata": {},
     "output_type": "execute_result"
    }
   ],
   "source": [
    "input_string = \"Hello, my name is Bhavya\"\n",
    "\n",
    "input_string.swapcase()"
   ]
  },
  {
   "cell_type": "markdown",
   "id": "f66e33ba",
   "metadata": {},
   "source": [
    "29. Remove a specific word from a string."
   ]
  },
  {
   "cell_type": "code",
   "execution_count": 104,
   "id": "f2e5f4ee",
   "metadata": {},
   "outputs": [
    {
     "data": {
      "text/plain": [
       "'Hello, my name is '"
      ]
     },
     "execution_count": 104,
     "metadata": {},
     "output_type": "execute_result"
    }
   ],
   "source": [
    "input_string = \"Hello, my name is Bhavya\"\n",
    "\n",
    "input_string.replace(\"Bhavya\",\"\")"
   ]
  },
  {
   "cell_type": "markdown",
   "id": "253d9186",
   "metadata": {},
   "source": [
    "30. Check if a string is a valid email address."
   ]
  },
  {
   "cell_type": "code",
   "execution_count": 119,
   "id": "441a5784",
   "metadata": {},
   "outputs": [
    {
     "name": "stdout",
     "output_type": "stream",
     "text": [
      "valid email address\n"
     ]
    }
   ],
   "source": [
    "email = \"bhavya420@gmail.com\"\n",
    "\n",
    "#check is @ symbol is and a dot is present\n",
    "\n",
    "if email.find(\"@\") > -1:\n",
    "    if email.find(\".\") > -1:\n",
    "        if email[0].isalpha():\n",
    "            if email.rfind(\".\") > email.find(\"@\"):\n",
    "                print(\"valid email address\")\n",
    "else:\n",
    "    print(\"invalid email address\")"
   ]
  },
  {
   "cell_type": "markdown",
   "id": "ece48c2d",
   "metadata": {},
   "source": [
    "31. Extract the username from an email address string."
   ]
  },
  {
   "cell_type": "code",
   "execution_count": 120,
   "id": "b304b6c8",
   "metadata": {},
   "outputs": [
    {
     "data": {
      "text/plain": [
       "'bhavya420'"
      ]
     },
     "execution_count": 120,
     "metadata": {},
     "output_type": "execute_result"
    }
   ],
   "source": [
    "email = \"bhavya420@gmail.com\"\n",
    "\n",
    "email.split(\"@\")[0]"
   ]
  },
  {
   "cell_type": "markdown",
   "id": "dde6b280",
   "metadata": {},
   "source": [
    "32. Extract the domain name from an email address string."
   ]
  },
  {
   "cell_type": "code",
   "execution_count": 121,
   "id": "d325acf6",
   "metadata": {},
   "outputs": [
    {
     "data": {
      "text/plain": [
       "'gmail.com'"
      ]
     },
     "execution_count": 121,
     "metadata": {},
     "output_type": "execute_result"
    }
   ],
   "source": [
    "email = \"bhavya420@gmail.com\"\n",
    "\n",
    "email.split(\"@\")[1]"
   ]
  },
  {
   "cell_type": "markdown",
   "id": "0908c6fd",
   "metadata": {},
   "source": [
    "33. Replace multiple spaces in a string with a single space."
   ]
  },
  {
   "cell_type": "code",
   "execution_count": 124,
   "id": "d4c2f1c3",
   "metadata": {},
   "outputs": [
    {
     "data": {
      "text/plain": [
       "'Hello, my name is Bhavya'"
      ]
     },
     "execution_count": 124,
     "metadata": {},
     "output_type": "execute_result"
    }
   ],
   "source": [
    "input_string = \"Hello,      my  name     is       Bhavya\"\n",
    "\n",
    "\" \".join(input_string.split())"
   ]
  },
  {
   "cell_type": "markdown",
   "id": "d04ea994",
   "metadata": {},
   "source": [
    "34. Check if a string is a valid URL."
   ]
  },
  {
   "cell_type": "code",
   "execution_count": 135,
   "id": "0cb7c780",
   "metadata": {},
   "outputs": [
    {
     "name": "stdout",
     "output_type": "stream",
     "text": [
      "valid url\n",
      "invalid url\n"
     ]
    }
   ],
   "source": [
    "url1 = \"https://www.yuddhakanda.com/\"\n",
    "url2 = \"yuddhakanda.com\"\n",
    "\n",
    "from urllib.parse import urlparse\n",
    "\n",
    "def valid_url(url):\n",
    "    results = urlparse(url)\n",
    "    if results.scheme and results.netloc:\n",
    "        print(\"valid url\")\n",
    "    else:\n",
    "        print(\"invalid url\")\n",
    "\n",
    "valid_url(url1)\n",
    "valid_url(url2)"
   ]
  },
  {
   "cell_type": "markdown",
   "id": "dff02b2b",
   "metadata": {},
   "source": [
    "35. Extract the protocol (http or https) from a URL string."
   ]
  },
  {
   "cell_type": "code",
   "execution_count": 142,
   "id": "180f0ebf",
   "metadata": {},
   "outputs": [
    {
     "name": "stdout",
     "output_type": "stream",
     "text": [
      "https\n"
     ]
    }
   ],
   "source": [
    "url = \"https://www.yuddhakanda.com/\"\n",
    "from urllib.parse import urlparse\n",
    "\n",
    "results = urlparse(url)\n",
    "print(results.scheme)\n"
   ]
  },
  {
   "cell_type": "markdown",
   "id": "ea87ad04",
   "metadata": {},
   "source": [
    "36. Find the frequency of each character in a string."
   ]
  },
  {
   "cell_type": "code",
   "execution_count": 160,
   "id": "a71829fd",
   "metadata": {},
   "outputs": [
    {
     "name": "stdout",
     "output_type": "stream",
     "text": [
      "{' ': 10, 'r': 3, ',': 1, 'm': 2, 't': 2, 'b': 2, 'v': 2, 'u': 1, 'l': 4, 'h': 2, 'g': 1, 's': 3, 'n': 5, 'o': 1, 'i': 4, 'd': 1, 'e': 6, 'y': 4, 'c': 3, 'a': 8, 'H': 1, '.': 1}\n"
     ]
    }
   ],
   "source": [
    "input_string = \"Hello, my name is bhavya. bhavya is currently learning data science\"\n",
    "\n",
    "freq = dict(zip(set(input_string), len(set(input_string)) * [0]))\n",
    "\n",
    "for c in input_string:\n",
    "        freq[c] = freq[c] + 1\n",
    "\n",
    "print(freq)"
   ]
  },
  {
   "cell_type": "markdown",
   "id": "61ea7ac9",
   "metadata": {},
   "source": [
    "37. Remove all punctuation from a string."
   ]
  },
  {
   "cell_type": "code",
   "execution_count": 164,
   "id": "2333cfca",
   "metadata": {},
   "outputs": [
    {
     "data": {
      "text/plain": [
       "'Hello my name is bhavya bhavya is currently learning datascience'"
      ]
     },
     "execution_count": 164,
     "metadata": {},
     "output_type": "execute_result"
    }
   ],
   "source": [
    "input_string = \"Hello, my name is bhavya.!! bhavya is currently learning data-science??\"\n",
    "\n",
    "import string\n",
    "\n",
    "trans = str.maketrans(\"\",\"\", string.punctuation)\n",
    "input_string.translate(trans)"
   ]
  },
  {
   "cell_type": "markdown",
   "id": "8ad877ef",
   "metadata": {},
   "source": [
    "38. Check if a string contains only digits."
   ]
  },
  {
   "cell_type": "code",
   "execution_count": 169,
   "id": "dda3d1a7",
   "metadata": {},
   "outputs": [
    {
     "name": "stdout",
     "output_type": "stream",
     "text": [
      "False\n",
      "True\n"
     ]
    }
   ],
   "source": [
    "input_string = \"djhasldh12131\"\n",
    "print(input_string.isdigit())\n",
    "\n",
    "input_string = \"12131\"\n",
    "print(input_string.isdigit())"
   ]
  },
  {
   "cell_type": "markdown",
   "id": "6e5e0877",
   "metadata": {},
   "source": [
    "39. Check if a string contains only alphabets."
   ]
  },
  {
   "cell_type": "code",
   "execution_count": 170,
   "id": "12661464",
   "metadata": {},
   "outputs": [
    {
     "name": "stdout",
     "output_type": "stream",
     "text": [
      "False\n",
      "True\n"
     ]
    }
   ],
   "source": [
    "input_string = \"djhasldh12131\"\n",
    "print(input_string.isalpha())\n",
    "\n",
    "input_string = \"hello\"\n",
    "print(input_string.isalpha())"
   ]
  },
  {
   "cell_type": "markdown",
   "id": "b6b39693",
   "metadata": {},
   "source": [
    "40. Convert a string to a list of characters."
   ]
  },
  {
   "cell_type": "code",
   "execution_count": 173,
   "id": "8a27c9ce",
   "metadata": {},
   "outputs": [
    {
     "name": "stdout",
     "output_type": "stream",
     "text": [
      "['H', 'e', 'l', 'l', 'o', ',', ' ', 'm', 'y', ' ', 'n', 'a', 'm', 'e', ' ', 'i', 's', ' ', 'b', 'h', 'a', 'v', 'y', 'a', '.']\n"
     ]
    }
   ],
   "source": [
    "input_string = \"Hello, my name is bhavya.\"\n",
    "\n",
    "print(list(input_string))"
   ]
  },
  {
   "cell_type": "markdown",
   "id": "dddf5992",
   "metadata": {},
   "source": [
    "41. Check if two strings are anagrams."
   ]
  },
  {
   "cell_type": "code",
   "execution_count": 178,
   "id": "2cab9e02",
   "metadata": {},
   "outputs": [
    {
     "name": "stdout",
     "output_type": "stream",
     "text": [
      "Strings are anagrams\n"
     ]
    }
   ],
   "source": [
    "input_string1 = \"post\"\n",
    "input_string2 = \"stop\"\n",
    "\n",
    "if sorted(input_string1) == sorted(input_string2):\n",
    "    print(\"Strings are anagrams\")    "
   ]
  },
  {
   "cell_type": "markdown",
   "id": "37531b29",
   "metadata": {},
   "source": [
    "42. Encode a string using a Caesar cipher."
   ]
  },
  {
   "cell_type": "code",
   "execution_count": 207,
   "id": "2baea669",
   "metadata": {},
   "outputs": [
    {
     "name": "stdout",
     "output_type": "stream",
     "text": [
      "Lipps Asvph!\n"
     ]
    }
   ],
   "source": [
    "input_string = \"Hello World!\"\n",
    "\n",
    "shift = 4\n",
    "encoded = \"\"\n",
    "\n",
    "for c in input_string:\n",
    "    if c.isalpha():\n",
    "        if c.isupper():\n",
    "            if ord(c) + shift > 90:\n",
    "                encoded += chr(64+(ord(c) + shift) - 90)\n",
    "            else:\n",
    "                encoded += chr((ord(c) + shift))\n",
    "\n",
    "        else:\n",
    "            if ord(c) + shift > 122:\n",
    "                encoded += chr(96+(ord(c) + shift) - 122)\n",
    "            else:\n",
    "                encoded += chr((ord(c) + shift))\n",
    "    else:\n",
    "        encoded += c\n",
    "\n",
    "print(encoded)"
   ]
  },
  {
   "cell_type": "markdown",
   "id": "c1c878ab",
   "metadata": {},
   "source": [
    "43. Decode a Caesar cipher encoded string."
   ]
  },
  {
   "cell_type": "code",
   "execution_count": 214,
   "id": "2c730373",
   "metadata": {},
   "outputs": [
    {
     "name": "stdout",
     "output_type": "stream",
     "text": [
      "Hello World!\n"
     ]
    }
   ],
   "source": [
    "input_string = \"Lipps Asvph!\"\n",
    "\n",
    "shift = 22\n",
    "encoded = \"\"\n",
    "\n",
    "for c in input_string:\n",
    "    if c.isalpha():\n",
    "        if c.isupper():\n",
    "            if ord(c) + shift > 90:\n",
    "                encoded += chr(64+(ord(c) + shift) - 90)\n",
    "            else:\n",
    "                encoded += chr((ord(c) + shift))\n",
    "\n",
    "        else:\n",
    "            if ord(c) + shift > 122:\n",
    "                encoded += chr(96+(ord(c) + shift) - 122)\n",
    "            else:\n",
    "                encoded += chr((ord(c) + shift))\n",
    "    else:\n",
    "        encoded += c\n",
    "\n",
    "print(encoded)"
   ]
  },
  {
   "cell_type": "markdown",
   "id": "c7eef29d",
   "metadata": {},
   "source": [
    "44. Find the most frequent word in a string."
   ]
  },
  {
   "cell_type": "code",
   "execution_count": 222,
   "id": "f0639ab0",
   "metadata": {},
   "outputs": [
    {
     "data": {
      "text/plain": [
       "Counter({'Hello,': 1,\n",
       "         'my': 1,\n",
       "         'name': 1,\n",
       "         'is': 2,\n",
       "         'bhavya': 2,\n",
       "         '.': 1,\n",
       "         'currently': 1,\n",
       "         'learning': 1,\n",
       "         'data': 1,\n",
       "         'science': 1})"
      ]
     },
     "execution_count": 222,
     "metadata": {},
     "output_type": "execute_result"
    }
   ],
   "source": [
    "input_string = \"Hello, my name is bhavya . bhavya is currently learning data science\"\n",
    "\n",
    "from collections import Counter\n",
    "\n",
    "Counter(input_string.split())"
   ]
  },
  {
   "cell_type": "markdown",
   "id": "83ea25af",
   "metadata": {},
   "source": [
    "45. Find all unique words in a string."
   ]
  },
  {
   "cell_type": "code",
   "execution_count": 225,
   "id": "3993852a",
   "metadata": {},
   "outputs": [
    {
     "name": "stdout",
     "output_type": "stream",
     "text": [
      "{'name', 'bhavya', 'currently', '.', 'hello', 'data', 'my', 'science', 'is', 'learning'}\n"
     ]
    }
   ],
   "source": [
    "input_string = \"Hello my name is bhavya . bhavya is currently learning data science\"\n",
    "\n",
    "print(set(input_string.lower().split()))"
   ]
  },
  {
   "cell_type": "markdown",
   "id": "adbae826",
   "metadata": {},
   "source": [
    "46. Count the number of syllables in a string."
   ]
  },
  {
   "cell_type": "code",
   "execution_count": 249,
   "id": "cddf3dd8",
   "metadata": {},
   "outputs": [
    {
     "name": "stdout",
     "output_type": "stream",
     "text": [
      "3\n",
      "8\n"
     ]
    }
   ],
   "source": [
    "import re\n",
    "\n",
    "print(len(re.findall(\"[aeiouy]+\", \"hello world\")))\n",
    "print(len(re.findall(\"[aeiouy]+\", \"welcome to data science\")))"
   ]
  },
  {
   "cell_type": "markdown",
   "id": "7f7613e0",
   "metadata": {},
   "source": [
    "47. Check if a string contains any special characters."
   ]
  },
  {
   "cell_type": "code",
   "execution_count": 239,
   "id": "aa4f413d",
   "metadata": {},
   "outputs": [
    {
     "name": "stdout",
     "output_type": "stream",
     "text": [
      "False\n",
      "True\n"
     ]
    }
   ],
   "source": [
    "input_string = \"hello world..!\"\n",
    "print(input_string.isalnum())\n",
    "\n",
    "input_string = \"hello\"\n",
    "print(input_string.isalnum())"
   ]
  },
  {
   "cell_type": "markdown",
   "id": "243fb319",
   "metadata": {},
   "source": [
    "48. Remove the nth word from a string."
   ]
  },
  {
   "cell_type": "code",
   "execution_count": 235,
   "id": "cb0989f9",
   "metadata": {},
   "outputs": [
    {
     "data": {
      "text/plain": [
       "'Hello my name is bhavya . is currently learning data science'"
      ]
     },
     "execution_count": 235,
     "metadata": {},
     "output_type": "execute_result"
    }
   ],
   "source": [
    "input_string = \"Hello my name is bhavya . bhavya is currently learning data science\"\n",
    "words = input_string.split()\n",
    "n_word = 6\n",
    "\n",
    "\" \".join([words[i] for i in range(len(words)) if i != n_word])"
   ]
  },
  {
   "cell_type": "markdown",
   "id": "ed056120",
   "metadata": {},
   "source": [
    "49. Insert a word at the nth position in a string."
   ]
  },
  {
   "cell_type": "code",
   "execution_count": 242,
   "id": "eb80c076",
   "metadata": {},
   "outputs": [
    {
     "data": {
      "text/plain": [
       "'Hello my name is bhavya . great bhavya is currently learning data science'"
      ]
     },
     "execution_count": 242,
     "metadata": {},
     "output_type": "execute_result"
    }
   ],
   "source": [
    "input_string = \"Hello my name is bhavya . bhavya is currently learning data science\"\n",
    "words = input_string.split()\n",
    "n_word = 6\n",
    "word = \"great\"\n",
    "\n",
    "new_string = []\n",
    "for i in range(len(words)):\n",
    "    if i == n_word:\n",
    "        new_string.append(word)\n",
    "    new_string.append(words[i])\n",
    "\" \".join(new_string)"
   ]
  },
  {
   "cell_type": "markdown",
   "id": "c5f1014c",
   "metadata": {},
   "source": [
    "50. Convert a CSV string to a list of lists."
   ]
  },
  {
   "cell_type": "code",
   "execution_count": 254,
   "id": "42beaaea",
   "metadata": {},
   "outputs": [
    {
     "name": "stdout",
     "output_type": "stream",
     "text": [
      "['StudentID', 'Name', 'Address']\n",
      "['100', 'Sam', 'Bangalore']\n",
      "['200', 'Ramesh', 'Delhi']\n",
      "['300', 'Arun', 'Chennai']\n"
     ]
    }
   ],
   "source": [
    "input_string = \"StudentID,Name,Address\\n100,Sam,Bangalore\\n200,Ramesh,Delhi\\n300,Arun,Chennai\"\n",
    "\n",
    "data = input_string.split(\"\\n\")\n",
    "\n",
    "for row in data:\n",
    "    print(row.split(\",\"))"
   ]
  },
  {
   "cell_type": "markdown",
   "id": "4ebffdb7",
   "metadata": {},
   "source": [
    "# List Based Practice Problem :"
   ]
  },
  {
   "cell_type": "markdown",
   "id": "595069d1",
   "metadata": {},
   "source": [
    "1. Create a list with integers from 1 to 10."
   ]
  },
  {
   "cell_type": "code",
   "execution_count": 255,
   "id": "2c5dc946",
   "metadata": {},
   "outputs": [
    {
     "name": "stdout",
     "output_type": "stream",
     "text": [
      "[1, 2, 3, 4, 5, 6, 7, 8, 9, 10]\n"
     ]
    }
   ],
   "source": [
    "integer_list = [i for i in range(1, 11)]\n",
    "\n",
    "print(integer_list)"
   ]
  },
  {
   "cell_type": "markdown",
   "id": "fa77a44e",
   "metadata": {},
   "source": [
    "2. Find the length of a list without using the `len()` function."
   ]
  },
  {
   "cell_type": "code",
   "execution_count": 279,
   "id": "3836a663",
   "metadata": {},
   "outputs": [
    {
     "name": "stdout",
     "output_type": "stream",
     "text": [
      "10\n"
     ]
    }
   ],
   "source": [
    "string1 = [1, 2, 3, 4, 5, 6, 7, 8, 9, 10]\n",
    "\n",
    "print(sum([1 for i in string1]))"
   ]
  },
  {
   "cell_type": "markdown",
   "id": "e7fdbe42",
   "metadata": {},
   "source": [
    "3. Append an element to the end of a list."
   ]
  },
  {
   "cell_type": "code",
   "execution_count": 256,
   "id": "b528a06d",
   "metadata": {},
   "outputs": [
    {
     "name": "stdout",
     "output_type": "stream",
     "text": [
      "Updated list: [1, 2, 3, 4]\n"
     ]
    }
   ],
   "source": [
    "my_list = [1, 2, 3]\n",
    "new_element = 4\n",
    "\n",
    "my_list.append(new_element)\n",
    "\n",
    "print(\"Updated list:\", my_list)"
   ]
  },
  {
   "cell_type": "markdown",
   "id": "b29e386c",
   "metadata": {},
   "source": [
    "4. Insert an element at a specific index in a list."
   ]
  },
  {
   "cell_type": "code",
   "execution_count": 258,
   "id": "be7c5105",
   "metadata": {},
   "outputs": [
    {
     "name": "stdout",
     "output_type": "stream",
     "text": [
      "Updated list: [100, 200, 25, 300, 400, 500]\n"
     ]
    }
   ],
   "source": [
    "my_list = [100, 200, 300, 400, 500]\n",
    "\n",
    "# Element to insert\n",
    "insert_element = 25\n",
    "\n",
    "# Index at which to insert the element\n",
    "index_to_insert = 2\n",
    "\n",
    "my_list.insert(index_to_insert, insert_element)\n",
    "print(\"Updated list:\", my_list)"
   ]
  },
  {
   "cell_type": "markdown",
   "id": "2303f280",
   "metadata": {},
   "source": [
    "5. Remove an element from a list by its value."
   ]
  },
  {
   "cell_type": "code",
   "execution_count": 259,
   "id": "19e094f1",
   "metadata": {},
   "outputs": [
    {
     "name": "stdout",
     "output_type": "stream",
     "text": [
      "Updated list: [1, 3, 4, 5]\n"
     ]
    }
   ],
   "source": [
    "my_list = [1, 2, 3, 4, 5]\n",
    "\n",
    "# Element to remove\n",
    "element_to_remove = 2\n",
    "\n",
    "# Remove the element by its value\n",
    "my_list.remove(element_to_remove)\n",
    "\n",
    "# Print the updated list\n",
    "print(\"Updated list:\", my_list)"
   ]
  },
  {
   "cell_type": "markdown",
   "id": "bbd81298",
   "metadata": {},
   "source": [
    "6. Remove an element from a list by its index."
   ]
  },
  {
   "cell_type": "code",
   "execution_count": 260,
   "id": "2c756434",
   "metadata": {},
   "outputs": [
    {
     "name": "stdout",
     "output_type": "stream",
     "text": [
      "Updated list: [1, 2, 3, 5, 6]\n",
      "Removed element: 4\n"
     ]
    }
   ],
   "source": [
    "my_list = [1, 2, 3, 4, 5, 6]\n",
    "\n",
    "# Index of the element to remove\n",
    "index_to_remove = 3\n",
    "\n",
    "# Remove the element at the specified index\n",
    "removed_element = my_list.pop(index_to_remove)\n",
    "\n",
    "# Print the updated list and the removed element\n",
    "print(\"Updated list:\", my_list)\n",
    "print(\"Removed element:\", removed_element)"
   ]
  },
  {
   "cell_type": "markdown",
   "id": "b19e5d36",
   "metadata": {},
   "source": [
    "7. Check if an element exists in a list."
   ]
  },
  {
   "cell_type": "code",
   "execution_count": 266,
   "id": "7b1ecea8",
   "metadata": {},
   "outputs": [
    {
     "name": "stdout",
     "output_type": "stream",
     "text": [
      "40 exists in the list.\n"
     ]
    }
   ],
   "source": [
    "my_list = [10, 20, 30, 40, 50]\n",
    "\n",
    "# Element to check\n",
    "element_to_check = 40\n",
    "\n",
    "# Check if the element exists in the list\n",
    "if element_to_check in my_list:\n",
    "    print(f\"{element_to_check} exists in the list.\")\n",
    "else:\n",
    "    print(f\"{element_to_check} does not exist in the list.\")"
   ]
  },
  {
   "cell_type": "markdown",
   "id": "5d7b5ca7",
   "metadata": {},
   "source": [
    "8. Find the index of the first occurrence of an element in a list."
   ]
  },
  {
   "cell_type": "code",
   "execution_count": 267,
   "id": "4dfeb0fe",
   "metadata": {},
   "outputs": [
    {
     "name": "stdout",
     "output_type": "stream",
     "text": [
      "The index of 20 is 1\n"
     ]
    }
   ],
   "source": [
    "my_list = [10, 20, 30, 40, 50, 30]\n",
    "\n",
    "# Element to find the index of\n",
    "element_to_find = 20\n",
    "\n",
    "# Find the index of the first occurrence of the element\n",
    "index = my_list.index(element_to_find)\n",
    "\n",
    "# Print the index\n",
    "print(f\"The index of {element_to_find} is {index}\")"
   ]
  },
  {
   "cell_type": "markdown",
   "id": "6c61c98c",
   "metadata": {},
   "source": [
    "9. Count the occurrences of an element in a list."
   ]
  },
  {
   "cell_type": "code",
   "execution_count": 268,
   "id": "9600bb45",
   "metadata": {},
   "outputs": [
    {
     "name": "stdout",
     "output_type": "stream",
     "text": [
      "The element 50 occurs 1 times in the list.\n"
     ]
    }
   ],
   "source": [
    "my_list = [10, 20, 30, 40, 50, 30, 30]\n",
    "\n",
    "# Element to count occurrences of\n",
    "element_to_count = 50\n",
    "\n",
    "# Count the occurrences of the element\n",
    "count = my_list.count(element_to_count)\n",
    "\n",
    "# Print the count\n",
    "print(f\"The element {element_to_count} occurs {count} times in the list.\")"
   ]
  },
  {
   "cell_type": "markdown",
   "id": "2dcda4e3",
   "metadata": {},
   "source": [
    "10. Reverse the order of elements in a list."
   ]
  },
  {
   "cell_type": "code",
   "execution_count": 269,
   "id": "e07c7ff4",
   "metadata": {},
   "outputs": [
    {
     "name": "stdout",
     "output_type": "stream",
     "text": [
      "Reversed list: [9, 4, 5, 2, 1]\n"
     ]
    }
   ],
   "source": [
    "my_list = [1, 2, 5, 4, 9]\n",
    "\n",
    "# Reverse the order of elements in the list\n",
    "my_list.reverse()\n",
    "\n",
    "# Print the reversed list\n",
    "print(\"Reversed list:\", my_list)"
   ]
  },
  {
   "cell_type": "markdown",
   "id": "85338074",
   "metadata": {},
   "source": [
    "11. Sort a list in ascending order."
   ]
  },
  {
   "cell_type": "code",
   "execution_count": 270,
   "id": "18efc99f",
   "metadata": {},
   "outputs": [
    {
     "name": "stdout",
     "output_type": "stream",
     "text": [
      "Sorted list in ascending order: [300, 400, 500, 1000, 2000]\n"
     ]
    }
   ],
   "source": [
    "my_list = [500, 1000, 300, 400, 2000]\n",
    "\n",
    "# Sort the list in ascending order\n",
    "my_list.sort()\n",
    "\n",
    "# Print the sorted list\n",
    "print(\"Sorted list in ascending order:\", my_list)"
   ]
  },
  {
   "cell_type": "markdown",
   "id": "732c71c7",
   "metadata": {},
   "source": [
    "12. Sort a list in descending order."
   ]
  },
  {
   "cell_type": "code",
   "execution_count": 273,
   "id": "212ad7f3",
   "metadata": {},
   "outputs": [
    {
     "name": "stdout",
     "output_type": "stream",
     "text": [
      "Sorted list in descending order: [1000, 500, 450, 300, 220]\n"
     ]
    }
   ],
   "source": [
    "my_list = [500, 1000, 300, 450, 220]\n",
    "\n",
    "# Sort the list in descending order\n",
    "my_list.sort(reverse=True)\n",
    "\n",
    "# Print the sorted list\n",
    "print(\"Sorted list in descending order:\", my_list)\n"
   ]
  },
  {
   "cell_type": "markdown",
   "id": "f9bcf44b",
   "metadata": {},
   "source": [
    "13. Create a list of even numbers from 1 to 20."
   ]
  },
  {
   "cell_type": "code",
   "execution_count": 285,
   "id": "8996d2dc",
   "metadata": {},
   "outputs": [
    {
     "name": "stdout",
     "output_type": "stream",
     "text": [
      "even numbers from 1 to 20 are\n"
     ]
    },
    {
     "data": {
      "text/plain": [
       "[2, 4, 6, 8, 10, 12, 14, 16, 18, 20]"
      ]
     },
     "execution_count": 285,
     "metadata": {},
     "output_type": "execute_result"
    }
   ],
   "source": [
    "print(\"even numbers from 1 to 20 are\")\n",
    "list(range(2, 21, 2))"
   ]
  },
  {
   "cell_type": "markdown",
   "id": "5dca5902",
   "metadata": {},
   "source": [
    "14. Create a list of odd numbers from 1 to 20."
   ]
  },
  {
   "cell_type": "code",
   "execution_count": 288,
   "id": "d31ed907",
   "metadata": {},
   "outputs": [
    {
     "name": "stdout",
     "output_type": "stream",
     "text": [
      "odd numbers from 1 to 20 are\n"
     ]
    },
    {
     "data": {
      "text/plain": [
       "[1, 3, 5, 7, 9, 11, 13, 15, 17, 19]"
      ]
     },
     "execution_count": 288,
     "metadata": {},
     "output_type": "execute_result"
    }
   ],
   "source": [
    "print(\"odd numbers from 1 to 20 are\")\n",
    "list(range(1, 20, 2))"
   ]
  },
  {
   "cell_type": "markdown",
   "id": "bad719cc",
   "metadata": {},
   "source": [
    "15. Find the sum of all elements in a list."
   ]
  },
  {
   "cell_type": "code",
   "execution_count": 289,
   "id": "d3bc265a",
   "metadata": {},
   "outputs": [
    {
     "data": {
      "text/plain": [
       "4200"
      ]
     },
     "execution_count": 289,
     "metadata": {},
     "output_type": "execute_result"
    }
   ],
   "source": [
    "my_list = [500, 1000, 300, 400, 2000]\n",
    "sum(my_list)"
   ]
  },
  {
   "cell_type": "markdown",
   "id": "38cb32a4",
   "metadata": {},
   "source": [
    "16. Find the maximum value in a list."
   ]
  },
  {
   "cell_type": "code",
   "execution_count": 290,
   "id": "90f56c40",
   "metadata": {},
   "outputs": [
    {
     "data": {
      "text/plain": [
       "2000"
      ]
     },
     "execution_count": 290,
     "metadata": {},
     "output_type": "execute_result"
    }
   ],
   "source": [
    "my_list = [500, 1000, 300, 400, 2000]\n",
    "max(my_list)"
   ]
  },
  {
   "cell_type": "markdown",
   "id": "9f7b916a",
   "metadata": {},
   "source": [
    "17. Find the minimum value in a list."
   ]
  },
  {
   "cell_type": "code",
   "execution_count": 291,
   "id": "724ffc2b",
   "metadata": {},
   "outputs": [
    {
     "data": {
      "text/plain": [
       "300"
      ]
     },
     "execution_count": 291,
     "metadata": {},
     "output_type": "execute_result"
    }
   ],
   "source": [
    "my_list = [500, 1000, 300, 400, 2000]\n",
    "min(my_list)"
   ]
  },
  {
   "cell_type": "markdown",
   "id": "a7f6c484",
   "metadata": {},
   "source": [
    "18. Create a list of squares of numbers from 1 to 10."
   ]
  },
  {
   "cell_type": "code",
   "execution_count": 296,
   "id": "bd64d404",
   "metadata": {},
   "outputs": [
    {
     "data": {
      "text/plain": [
       "[1, 4, 9, 16, 25, 36, 49, 64, 81, 100]"
      ]
     },
     "execution_count": 296,
     "metadata": {},
     "output_type": "execute_result"
    }
   ],
   "source": [
    "nums = list(range(1, 11))\n",
    "\n",
    "[i**2 for i in nums]"
   ]
  },
  {
   "cell_type": "markdown",
   "id": "74084fe6",
   "metadata": {},
   "source": [
    "19. Create a list of random numbers."
   ]
  },
  {
   "cell_type": "code",
   "execution_count": 307,
   "id": "7ddaa3bb",
   "metadata": {},
   "outputs": [
    {
     "name": "stdout",
     "output_type": "stream",
     "text": [
      "List of random integers: [2, 9, 10, 7, 8, 10, 7, 8, 3, 5]\n",
      "List of random integers: [6, 9, 6, 10, 7, 7, 4, 4, 10, 7]\n"
     ]
    }
   ],
   "source": [
    "import random\n",
    "# Create a list of random integers between 1 and 100\n",
    "random_integers = [random.randint(1, 10) for _ in range(10)]\n",
    "\n",
    "# Print the list of random integers\n",
    "print(\"List of random integers:\", random_integers)\n",
    "\n",
    "# OR\n",
    "\n",
    "rand_list = []\n",
    "for i in range(10):\n",
    "    rand_list.append(random.randint(1, 10))\n",
    "print(\"List of random integers:\",rand_list)"
   ]
  },
  {
   "cell_type": "markdown",
   "id": "ebec6dcb",
   "metadata": {},
   "source": [
    "20. Remove duplicates from a list."
   ]
  },
  {
   "cell_type": "code",
   "execution_count": 310,
   "id": "2b52c5c4",
   "metadata": {},
   "outputs": [
    {
     "name": "stdout",
     "output_type": "stream",
     "text": [
      "[1, 2, 3, 4, 5, 6]\n"
     ]
    }
   ],
   "source": [
    "my_list = [ 1,2,3,5,2,6,4,3,1,3]\n",
    "print(list(set(my_list)))\n"
   ]
  },
  {
   "cell_type": "markdown",
   "id": "17756b74",
   "metadata": {},
   "source": [
    "21. Find the common elements between two lists.\n"
   ]
  },
  {
   "cell_type": "code",
   "execution_count": 315,
   "id": "bf7fae87",
   "metadata": {},
   "outputs": [
    {
     "data": {
      "text/plain": [
       "[3, 4]"
      ]
     },
     "execution_count": 315,
     "metadata": {},
     "output_type": "execute_result"
    }
   ],
   "source": [
    "my_list1 = [ 1,2,3,4]\n",
    "my_list2 = [ 21,22,33,4,55,3]\n",
    "[i for i in my_list1 if i in my_list2]\n",
    "      \n"
   ]
  },
  {
   "cell_type": "markdown",
   "id": "2cde1561",
   "metadata": {},
   "source": [
    "22. Find the difference between two lists."
   ]
  },
  {
   "cell_type": "code",
   "execution_count": 316,
   "id": "45bd8b5b",
   "metadata": {},
   "outputs": [
    {
     "name": "stdout",
     "output_type": "stream",
     "text": [
      "Difference between lists: [1]\n"
     ]
    }
   ],
   "source": [
    "my_list1 = [ 1,2,3,4]\n",
    "my_list2 = [ 2,3,4,6,5]\n",
    "difference = list(set(my_list1).difference(my_list2))\n",
    "print(\"Difference between lists:\", difference)"
   ]
  },
  {
   "cell_type": "markdown",
   "id": "e6e07f83",
   "metadata": {},
   "source": [
    "23. Merge two lists."
   ]
  },
  {
   "cell_type": "code",
   "execution_count": 320,
   "id": "553deff0",
   "metadata": {},
   "outputs": [
    {
     "name": "stdout",
     "output_type": "stream",
     "text": [
      "Merged list: [1, 2, 3, 4, 7, 6, 5]\n"
     ]
    }
   ],
   "source": [
    "my_list1 = [ 1,2,3,4]\n",
    "my_list2 = [7,6,5]\n",
    "merged_list = my_list1 + my_list2\n",
    "print(\"Merged list:\", merged_list)"
   ]
  },
  {
   "cell_type": "markdown",
   "id": "4a161554",
   "metadata": {},
   "source": [
    "24. Multiply all elements in a list by 2."
   ]
  },
  {
   "cell_type": "code",
   "execution_count": 321,
   "id": "c08c9dcc",
   "metadata": {},
   "outputs": [
    {
     "name": "stdout",
     "output_type": "stream",
     "text": [
      "2\n",
      "4\n",
      "6\n",
      "8\n"
     ]
    }
   ],
   "source": [
    "my_list = [ 1,2,3,4]\n",
    "for i in my_list:\n",
    "    print(i*2)"
   ]
  },
  {
   "cell_type": "markdown",
   "id": "44e7feaf",
   "metadata": {},
   "source": [
    "25. Filter out all even numbers from a list."
   ]
  },
  {
   "cell_type": "code",
   "execution_count": 322,
   "id": "99783a9b",
   "metadata": {},
   "outputs": [
    {
     "name": "stdout",
     "output_type": "stream",
     "text": [
      "1 3 7 13 9 "
     ]
    }
   ],
   "source": [
    "my_list = [ 1,2,3,4,6,7,8,13,9]\n",
    "for i  in my_list:\n",
    "    if i % 2 != 0:\n",
    "        print(i,end =\" \")"
   ]
  },
  {
   "cell_type": "markdown",
   "id": "b6ea9e33",
   "metadata": {},
   "source": [
    "26. Convert a list of strings to a list of integers."
   ]
  },
  {
   "cell_type": "code",
   "execution_count": 326,
   "id": "3c462c29",
   "metadata": {},
   "outputs": [
    {
     "name": "stdout",
     "output_type": "stream",
     "text": [
      "strings into integers: [1234, 123, 34, 432]\n"
     ]
    }
   ],
   "source": [
    "list1= [\"1234\",\"123\",\"34\",\"432\"]\n",
    "list2 = []\n",
    "for i in list1:\n",
    "    integer = int(i)\n",
    "    list2.append(integer)\n",
    "print(\"strings into integers:\", list2)\n",
    " "
   ]
  },
  {
   "cell_type": "markdown",
   "id": "a593a93b",
   "metadata": {},
   "source": [
    "27. Convert a list of integers to a list of strings."
   ]
  },
  {
   "cell_type": "code",
   "execution_count": 328,
   "id": "caefb4b7",
   "metadata": {},
   "outputs": [
    {
     "name": "stdout",
     "output_type": "stream",
     "text": [
      "integers into strings: ['1234', '123', '34', '432']\n"
     ]
    }
   ],
   "source": [
    "list1= [1234,123,34,432]\n",
    "list2 = []\n",
    "for i in list1:\n",
    "    string = str(i)\n",
    "    list2.append(string)\n",
    "print(\"integers into strings:\", list2)"
   ]
  },
  {
   "cell_type": "markdown",
   "id": "347c112b",
   "metadata": {},
   "source": [
    "28. Flatten a nested list."
   ]
  },
  {
   "cell_type": "code",
   "execution_count": 331,
   "id": "1b1b0306",
   "metadata": {},
   "outputs": [
    {
     "name": "stdout",
     "output_type": "stream",
     "text": [
      "[1, 2, 3, 23, 2, 5, 100, 19]\n"
     ]
    }
   ],
   "source": [
    "nested_list = [[1,2,3],[23],[2,5],[100,19]]\n",
    "\n",
    "extracted_list = []\n",
    "for i in nested_list:\n",
    "    extracted_list.extend(i)\n",
    "print(extracted_list)"
   ]
  },
  {
   "cell_type": "markdown",
   "id": "67b66ec2",
   "metadata": {},
   "source": [
    "29. Create a list of the first 10 Fibonacci numbers."
   ]
  },
  {
   "cell_type": "code",
   "execution_count": 335,
   "id": "b896fa91",
   "metadata": {},
   "outputs": [
    {
     "name": "stdout",
     "output_type": "stream",
     "text": [
      "[0, 1, 1, 2, 3, 5, 8, 13, 21, 34, 55, 89]\n"
     ]
    }
   ],
   "source": [
    "fibo = [0,1]\n",
    "n = 10\n",
    "\n",
    "for i in range(n):\n",
    "    fibo.append(fibo[i] + fibo[i+1])\n",
    "\n",
    "print(fibo)"
   ]
  },
  {
   "cell_type": "markdown",
   "id": "ba393ad3",
   "metadata": {},
   "source": [
    "30. Check if a list is sorted."
   ]
  },
  {
   "cell_type": "code",
   "execution_count": 340,
   "id": "022f05ce",
   "metadata": {},
   "outputs": [
    {
     "name": "stdout",
     "output_type": "stream",
     "text": [
      "[34, 44, 223, 590, 1000]\n"
     ]
    },
    {
     "data": {
      "text/plain": [
       "False"
      ]
     },
     "execution_count": 340,
     "metadata": {},
     "output_type": "execute_result"
    }
   ],
   "source": [
    "my_list =[1000,223,34,44,590]\n",
    "print(sorted(my_list))\n",
    "sorted(my_list)== my_list\n"
   ]
  },
  {
   "cell_type": "markdown",
   "id": "606e6173",
   "metadata": {},
   "source": [
    "31. Rotate a list to the left by `n` positions.\n"
   ]
  },
  {
   "cell_type": "code",
   "execution_count": 348,
   "id": "eedd0ade",
   "metadata": {},
   "outputs": [
    {
     "name": "stdout",
     "output_type": "stream",
     "text": [
      "[4, 5, 6, 7, 8, 9, 1, 2, 3]\n"
     ]
    }
   ],
   "source": [
    "list1 = [1, 2, 3,4,5,6,7,8,9]\n",
    "n = 3\n",
    "\n",
    "print(list1[n:] + list1[:n])"
   ]
  },
  {
   "cell_type": "markdown",
   "id": "3ce29936",
   "metadata": {},
   "source": [
    "32. Rotate a list to the right by `n` positions."
   ]
  },
  {
   "cell_type": "code",
   "execution_count": 350,
   "id": "c7439581",
   "metadata": {},
   "outputs": [
    {
     "name": "stdout",
     "output_type": "stream",
     "text": [
      "[7, 8, 9, 1, 2, 3, 4, 5, 6]\n"
     ]
    }
   ],
   "source": [
    "list1 = [1, 2, 3,4,5,6,7,8,9]\n",
    "n = 3\n",
    "\n",
    "print(list1[-n:] + list1[:-n])"
   ]
  },
  {
   "cell_type": "markdown",
   "id": "e2597ca2",
   "metadata": {},
   "source": [
    "33. Create a list of prime numbers up to 50.\n"
   ]
  },
  {
   "cell_type": "code",
   "execution_count": 362,
   "id": "89e9f4ad",
   "metadata": {},
   "outputs": [
    {
     "name": "stdout",
     "output_type": "stream",
     "text": [
      "List of prime numbers up to 50: [2, 3, 5, 7, 11, 13, 17, 19, 23, 29]\n"
     ]
    }
   ],
   "source": [
    "#Function to check if a number is prime\n",
    "\n",
    "def is_prime(num):\n",
    "    if num <= 1:\n",
    "        return False\n",
    "    if num <= 3:\n",
    "        return True\n",
    "    if num % 2 == 0 or num % 3 == 0:\n",
    "        return False\n",
    "    i = 5\n",
    "    while i * i <= num:\n",
    "      #print(i,num)\n",
    "      if num % i == 0 or num % (i + 2) == 0:\n",
    "            return False\n",
    "      i += 6\n",
    "    return True\n",
    "# Create a list of prime numbers up to 50\n",
    "prime_numbers = [num for num in range(2,30) if is_prime(num)]\n",
    "\n",
    "# Print the list of prime numbers\n",
    "print(\"List of prime numbers up to 50:\", prime_numbers)"
   ]
  },
  {
   "cell_type": "markdown",
   "id": "2d406e60",
   "metadata": {},
   "source": [
    "34. Split a list into chunks of size `n`."
   ]
  },
  {
   "cell_type": "code",
   "execution_count": 365,
   "id": "4c1576b8",
   "metadata": {},
   "outputs": [
    {
     "name": "stdout",
     "output_type": "stream",
     "text": [
      "[2, 3, 5]\n",
      "[7, 11, 13]\n",
      "[17, 19, 23]\n"
     ]
    }
   ],
   "source": [
    "list1 = [2, 3, 5, 7, 11, 13, 17, 19, 23, 29]\n",
    "n = 3\n",
    "chunks = int(len(list1)/3)\n",
    "idx = 0\n",
    "\n",
    "for i in range(3):\n",
    "    print(list1[idx:n])\n",
    "    idx = n\n",
    "    n+=3"
   ]
  },
  {
   "cell_type": "markdown",
   "id": "7003a242",
   "metadata": {},
   "source": [
    "35. Find the second largest number in a list.\n"
   ]
  },
  {
   "cell_type": "code",
   "execution_count": 368,
   "id": "f80f7dd2",
   "metadata": {},
   "outputs": [
    {
     "data": {
      "text/plain": [
       "15"
      ]
     },
     "execution_count": 368,
     "metadata": {},
     "output_type": "execute_result"
    }
   ],
   "source": [
    "my_list = [1, 5, 2, 15, 3, 21]\n",
    "sorted_list = sorted(set(my_list))\n",
    "\n",
    "sorted_list[-2]"
   ]
  },
  {
   "cell_type": "markdown",
   "id": "5f494fab",
   "metadata": {},
   "source": [
    "36. Replace every element in a list with its square."
   ]
  },
  {
   "cell_type": "code",
   "execution_count": 369,
   "id": "0347966f",
   "metadata": {},
   "outputs": [
    {
     "name": "stdout",
     "output_type": "stream",
     "text": [
      "Squared list: [1, 4, 9, 16, 25]\n"
     ]
    }
   ],
   "source": [
    "my_list = [1, 2, 3, 4, 5]\n",
    "\n",
    "squared_list = [i ** 2 for i in my_list]\n",
    "print(\"Squared list:\", squared_list)"
   ]
  },
  {
   "cell_type": "markdown",
   "id": "b88e08a3",
   "metadata": {},
   "source": [
    "37. Convert a list to a dictionary where list elements become keys and their indices become values.\n",
    "\n"
   ]
  },
  {
   "cell_type": "code",
   "execution_count": 377,
   "id": "c9dcb3b2",
   "metadata": {},
   "outputs": [
    {
     "data": {
      "text/plain": [
       "{'my': 0, 'name': 1, 'is': 2, 'bhavya': 3}"
      ]
     },
     "execution_count": 377,
     "metadata": {},
     "output_type": "execute_result"
    }
   ],
   "source": [
    "my_list = ['my','name','is','bhavya']\n",
    "idx_list = list(range(4))\n",
    "                \n",
    "dict(zip(my_list, idx_list))"
   ]
  },
  {
   "cell_type": "markdown",
   "id": "53cfdb33",
   "metadata": {},
   "source": [
    "38. Shuffle the elements of a list randomly."
   ]
  },
  {
   "cell_type": "code",
   "execution_count": 383,
   "id": "fbeb413d",
   "metadata": {},
   "outputs": [
    {
     "name": "stdout",
     "output_type": "stream",
     "text": [
      "['name', 'bhavya', 'my', 'is']\n"
     ]
    }
   ],
   "source": [
    "\n",
    "import random \n",
    "my_list = ['my','name','is','bhavya']\n",
    "\n",
    "random.shuffle(my_list)\n",
    "print(my_list)"
   ]
  },
  {
   "cell_type": "markdown",
   "id": "0cdea8d9",
   "metadata": {},
   "source": [
    "39. Create a list of the first 10 factorial numbers."
   ]
  },
  {
   "cell_type": "code",
   "execution_count": 389,
   "id": "5d2829a0",
   "metadata": {},
   "outputs": [
    {
     "name": "stdout",
     "output_type": "stream",
     "text": [
      "Factorial of  1  is  1\n",
      "Factorial of  2  is  2\n",
      "Factorial of  3  is  6\n",
      "Factorial of  4  is  24\n",
      "Factorial of  5  is  120\n",
      "Factorial of  6  is  720\n",
      "Factorial of  7  is  5040\n",
      "Factorial of  8  is  40320\n",
      "Factorial of  9  is  362880\n",
      "Factorial of  10  is  3628800\n"
     ]
    }
   ],
   "source": [
    "for i in range(1, 11):\n",
    "    fact = 1\n",
    "    for j in range(1, i+1):\n",
    "        fact *= j\n",
    "    print(\"Factorial of \", i ,\" is \", fact)"
   ]
  },
  {
   "cell_type": "markdown",
   "id": "f73bbc05",
   "metadata": {},
   "source": [
    "40. Check if two lists have at least one element in common."
   ]
  },
  {
   "cell_type": "code",
   "execution_count": 391,
   "id": "c6365b8a",
   "metadata": {},
   "outputs": [
    {
     "name": "stdout",
     "output_type": "stream",
     "text": [
      "yes there is an element in common\n"
     ]
    }
   ],
   "source": [
    "list1 = ['my','name','is','bhavya']\n",
    "list2 = ['bhavya','is','learning','data', 'science']\n",
    "\n",
    "flag = False\n",
    "for e in list1:\n",
    "    if e in list2:\n",
    "        flag= True\n",
    "        break\n",
    "if flag:\n",
    "    print(\"yes there is an element in common\")"
   ]
  },
  {
   "cell_type": "markdown",
   "id": "1a1d799f",
   "metadata": {},
   "source": [
    "41. Remove all elements from a list."
   ]
  },
  {
   "cell_type": "code",
   "execution_count": 403,
   "id": "a0739ca7",
   "metadata": {},
   "outputs": [
    {
     "name": "stdout",
     "output_type": "stream",
     "text": [
      "Elements of list1:  []\n"
     ]
    }
   ],
   "source": [
    "list1 = ['bhavya','is','learning','data', 'science']\n",
    "\n",
    "list1.clear()\n",
    "    \n",
    "print(\"Elements of list1: \", list1)"
   ]
  },
  {
   "cell_type": "markdown",
   "id": "1d48d8e5",
   "metadata": {},
   "source": [
    "42. Replace negative numbers in a list with 0.\n"
   ]
  },
  {
   "cell_type": "code",
   "execution_count": 406,
   "id": "376833d8",
   "metadata": {},
   "outputs": [
    {
     "name": "stdout",
     "output_type": "stream",
     "text": [
      "[1, 4, 9, 16, 25, 0, 10, 0]\n"
     ]
    }
   ],
   "source": [
    "list1 = [1, 4, 9, 16, 25, -9, 10, -8]\n",
    "\n",
    "list2 = []\n",
    "for i in list1:\n",
    "    if i < 0:\n",
    "        list2.append(0)\n",
    "    else:\n",
    "        list2.append(i)\n",
    "\n",
    "print(list2)"
   ]
  },
  {
   "cell_type": "markdown",
   "id": "8f8a915a",
   "metadata": {},
   "source": [
    "43. Convert a string into a list of words."
   ]
  },
  {
   "cell_type": "code",
   "execution_count": 409,
   "id": "739e3f4c",
   "metadata": {},
   "outputs": [
    {
     "data": {
      "text/plain": [
       "['yes', 'there', 'is', 'an', 'element', 'in', 'common']"
      ]
     },
     "execution_count": 409,
     "metadata": {},
     "output_type": "execute_result"
    }
   ],
   "source": [
    "input_str = \"yes there is an element in common\"\n",
    "\n",
    "input_str.split()"
   ]
  },
  {
   "cell_type": "markdown",
   "id": "1cedd9aa",
   "metadata": {},
   "source": [
    "44. Convert a list of words into a string.\n"
   ]
  },
  {
   "cell_type": "code",
   "execution_count": 410,
   "id": "aa72e8db",
   "metadata": {},
   "outputs": [
    {
     "data": {
      "text/plain": [
       "'yes there is an element in common'"
      ]
     },
     "execution_count": 410,
     "metadata": {},
     "output_type": "execute_result"
    }
   ],
   "source": [
    "input_list = ['yes', 'there', 'is', 'an', 'element', 'in', 'common']\n",
    "\" \".join(input_list)"
   ]
  },
  {
   "cell_type": "markdown",
   "id": "302f6754",
   "metadata": {},
   "source": [
    "45. Create a list of the first `n` powers of 2."
   ]
  },
  {
   "cell_type": "code",
   "execution_count": 415,
   "id": "601f948a",
   "metadata": {},
   "outputs": [
    {
     "name": "stdout",
     "output_type": "stream",
     "text": [
      "0  power of 2 is  1\n",
      "1  power of 2 is  2\n",
      "2  power of 2 is  4\n",
      "3  power of 2 is  8\n",
      "4  power of 2 is  16\n",
      "5  power of 2 is  32\n",
      "6  power of 2 is  64\n",
      "7  power of 2 is  128\n",
      "8  power of 2 is  256\n",
      "9  power of 2 is  512\n",
      "10  power of 2 is  1024\n"
     ]
    }
   ],
   "source": [
    "n = 10\n",
    "\n",
    "for i in range(n+1):\n",
    "    print(i, \" power of 2 is \", 2**i)"
   ]
  },
  {
   "cell_type": "markdown",
   "id": "44b1ec4d",
   "metadata": {},
   "source": [
    "46. Find the longest string in a list of strings.\n"
   ]
  },
  {
   "cell_type": "code",
   "execution_count": 417,
   "id": "4ba41584",
   "metadata": {},
   "outputs": [
    {
     "name": "stdout",
     "output_type": "stream",
     "text": [
      "Longest string is : Bhavya\n"
     ]
    }
   ],
   "source": [
    "string_list = [\"my\", \"name\", \"is\", \"Bhavya\"]\n",
    "\n",
    "longest_string = \"\"\n",
    "for i in string_list:\n",
    "    if len(i) > len(longest_string):\n",
    "        longest_string = i\n",
    "\n",
    "print(\"Longest string is :\", longest_string)"
   ]
  },
  {
   "cell_type": "markdown",
   "id": "bc8cba6e",
   "metadata": {},
   "source": [
    "47. Find the shortest string in a list of strings."
   ]
  },
  {
   "cell_type": "code",
   "execution_count": 418,
   "id": "1ae8ec81",
   "metadata": {},
   "outputs": [
    {
     "name": "stdout",
     "output_type": "stream",
     "text": [
      "shortest string is : is\n"
     ]
    }
   ],
   "source": [
    "string_list = [\"my\", \"name\", \"is\", \"Bhavya\"]\n",
    "\n",
    "shortest_string = \"\"\n",
    "for i in string_list:\n",
    "    if len(i) < len(longest_string):\n",
    "        shortest_string = i\n",
    "\n",
    "print(\"shortest string is :\", shortest_string)"
   ]
  },
  {
   "cell_type": "markdown",
   "id": "f25e7412",
   "metadata": {},
   "source": [
    "48. Create a list of the first `n` triangular numbers.\n"
   ]
  },
  {
   "cell_type": "code",
   "execution_count": 457,
   "id": "67943a59",
   "metadata": {},
   "outputs": [
    {
     "name": "stdout",
     "output_type": "stream",
     "text": [
      "1\n",
      "3\n",
      "6\n",
      "10\n",
      "15\n",
      "21\n",
      "28\n",
      "36\n"
     ]
    }
   ],
   "source": [
    "n = 10\n",
    "\n",
    "for k in range(1, n+1):\n",
    "    count = 0\n",
    "    for i in range(1, k):\n",
    "        for j in range(1, i):\n",
    "            count +=1\n",
    "    if count > 0:\n",
    "        print(count)"
   ]
  },
  {
   "cell_type": "markdown",
   "id": "f55636f3",
   "metadata": {},
   "source": [
    "49. Check if a list contains another list as a subsequence.\n"
   ]
  },
  {
   "cell_type": "code",
   "execution_count": 462,
   "id": "7a204cc5",
   "metadata": {},
   "outputs": [
    {
     "name": "stdout",
     "output_type": "stream",
     "text": [
      "list2 contains list1 as a subsequence\n",
      "list3 doesn't contains list1 as a subsequence\n"
     ]
    }
   ],
   "source": [
    "list1 = [1, 2, 3]\n",
    "list2 = [1,2,3,4,5,6,7,8,9]\n",
    "list3 = [4,5,6,7,8,9,0]\n",
    "\n",
    "diff1 = set(list1).difference(set(list2)) \n",
    "\n",
    "if len(diff1) == 0:\n",
    "    print(\"list2 contains list1 as a subsequence\")\n",
    "else:\n",
    "    print(\"list2 doesn't contains list1 as a subsequence\")\n",
    "    \n",
    "    \n",
    "diff2 = set(list1).difference(set(list3))\n",
    "if len(diff2) == 0:\n",
    "    print(\"list3 contains list1 as a subsequence\")\n",
    "else:\n",
    "    print(\"list3 doesn't contains list1 as a subsequence\")"
   ]
  },
  {
   "cell_type": "markdown",
   "id": "58aa0921",
   "metadata": {},
   "source": [
    "50. Swap two elements in a list by their indices."
   ]
  },
  {
   "cell_type": "code",
   "execution_count": 464,
   "id": "2cbcbc7b",
   "metadata": {},
   "outputs": [
    {
     "name": "stdout",
     "output_type": "stream",
     "text": [
      "[1, 2, 4, 3, 5]\n"
     ]
    }
   ],
   "source": [
    "my_list = [1, 2, 3, 4, 5]\n",
    "\n",
    "# Indices of elements to swap\n",
    "tmp = my_list[2]\n",
    "my_list[2] = my_list[3]\n",
    "my_list[3] = tmp\n",
    "\n",
    "print(my_list)"
   ]
  },
  {
   "cell_type": "markdown",
   "id": "27d21b8d",
   "metadata": {},
   "source": [
    "# Tuple Based Practice Problem :"
   ]
  },
  {
   "cell_type": "markdown",
   "id": "9faab862",
   "metadata": {},
   "source": [
    "1. Create a tuple with integers from 1 to 5.\n"
   ]
  },
  {
   "cell_type": "code",
   "execution_count": 425,
   "id": "da1b9af1",
   "metadata": {},
   "outputs": [
    {
     "name": "stdout",
     "output_type": "stream",
     "text": [
      "Tuple with integers: (1, 4, 3, 2, 5)\n"
     ]
    }
   ],
   "source": [
    "my_tuple = [i for i in range (1,6,1)]\n",
    "my_tuple = tuple(my_list)\n",
    "print(\"Tuple with integers:\", my_tuple)"
   ]
  },
  {
   "cell_type": "markdown",
   "id": "b51b6616",
   "metadata": {},
   "source": [
    "2. Access the third element of a tuple.\n"
   ]
  },
  {
   "cell_type": "code",
   "execution_count": 426,
   "id": "10df4e80",
   "metadata": {},
   "outputs": [
    {
     "name": "stdout",
     "output_type": "stream",
     "text": [
      "The third element of the tuple is: 3\n"
     ]
    }
   ],
   "source": [
    "my_tuple = (1, 2, 3, 4, 5)\n",
    "\n",
    "#  Access the third element (index 2) of the tuple\n",
    "third_element = my_tuple[2]\n",
    "\n",
    "#  Print the third element\n",
    "print(\"The third element of the tuple is:\", third_element)"
   ]
  },
  {
   "cell_type": "markdown",
   "id": "5f2a6e0a",
   "metadata": {},
   "source": [
    "3. Find the length of a tuple without using the `len()` function.\n"
   ]
  },
  {
   "cell_type": "code",
   "execution_count": 427,
   "id": "d04143e4",
   "metadata": {},
   "outputs": [
    {
     "name": "stdout",
     "output_type": "stream",
     "text": [
      "The length of the tuple is: 5\n"
     ]
    }
   ],
   "source": [
    "my_tuple = (10, 20, 30, 40, 50)\n",
    "count = 0\n",
    "for i in my_tuple:\n",
    "    count += 1\n",
    "print(\"The length of the tuple is:\", count)"
   ]
  },
  {
   "cell_type": "markdown",
   "id": "0d3dcfec",
   "metadata": {},
   "source": [
    "4. Count the occurrences of an element in a tuple."
   ]
  },
  {
   "cell_type": "code",
   "execution_count": 429,
   "id": "f05e4929",
   "metadata": {},
   "outputs": [
    {
     "name": "stdout",
     "output_type": "stream",
     "text": [
      "The element 20 appears 3 times in the tuple.\n"
     ]
    }
   ],
   "source": [
    "my_tuple = (10, 20, 30, 20, 40, 50, 20)\n",
    "\n",
    "# Choose the element to count occurrences of\n",
    "element_to_count = 20\n",
    "\n",
    "count = 0\n",
    "\n",
    "for i in my_tuple:\n",
    "    if i == element_to_count:\n",
    "        count += 1\n",
    "\n",
    "#  Print the count of occurrences\n",
    "print(f\"The element {element_to_count} appears {count} times in the tuple.\")"
   ]
  },
  {
   "cell_type": "markdown",
   "id": "0f36355e",
   "metadata": {},
   "source": [
    "5. Find the index of the first occurrence of an element in a tuple.\n"
   ]
  },
  {
   "cell_type": "code",
   "execution_count": 471,
   "id": "9e572d63",
   "metadata": {},
   "outputs": [
    {
     "name": "stdout",
     "output_type": "stream",
     "text": [
      "item found at index:  2\n"
     ]
    }
   ],
   "source": [
    "tuple1 = (1,2,9,4,5,6,7,1,2,3,4,5,1,3)\n",
    "\n",
    "to_find = 9\n",
    "\n",
    "for i in range(len(tuple1)):\n",
    "    if tuple1[i] == to_find:\n",
    "        print(\"item found at index: \", i)\n",
    "        break"
   ]
  },
  {
   "cell_type": "markdown",
   "id": "44c2d8a8",
   "metadata": {},
   "source": [
    "6. Check if an element exists in a tuple.\n"
   ]
  },
  {
   "cell_type": "code",
   "execution_count": 438,
   "id": "ff352cf0",
   "metadata": {},
   "outputs": [
    {
     "name": "stdout",
     "output_type": "stream",
     "text": [
      "3 exists in the tuple.\n"
     ]
    }
   ],
   "source": [
    "my_tuple = (1, 2, 3, 4, 5)\n",
    "\n",
    "# Choose the element to check for existence\n",
    "element_to_check = 3\n",
    "\n",
    "if element_to_check in my_tuple:\n",
    "    print(element_to_check,\"exists in the tuple.\")\n",
    "else:\n",
    "    print(element_to_check, \"does not exist in the tuple.\")"
   ]
  },
  {
   "cell_type": "markdown",
   "id": "934eec85",
   "metadata": {},
   "source": [
    "7. Convert a tuple to a list.\n"
   ]
  },
  {
   "cell_type": "code",
   "execution_count": 439,
   "id": "bce1401e",
   "metadata": {},
   "outputs": [
    {
     "name": "stdout",
     "output_type": "stream",
     "text": [
      "Tuple: (1, 2, 3, 4, 5)\n",
      "List: [1, 2, 3, 4, 5]\n"
     ]
    }
   ],
   "source": [
    "my_tuple = (1, 2, 3, 4, 5)\n",
    "\n",
    "my_list = list(my_tuple)\n",
    "\n",
    "print(\"Tuple:\", my_tuple)\n",
    "print(\"List:\", my_list)"
   ]
  },
  {
   "cell_type": "markdown",
   "id": "c0cec4b2",
   "metadata": {},
   "source": [
    "8. Convert a list to a tuple.\n"
   ]
  },
  {
   "cell_type": "code",
   "execution_count": 442,
   "id": "816b05c2",
   "metadata": {},
   "outputs": [
    {
     "name": "stdout",
     "output_type": "stream",
     "text": [
      "List: [1, 2, 3, 4, 5]\n",
      "Tuple: (1, 2, 3, 4, 5)\n"
     ]
    }
   ],
   "source": [
    "my_list = [1, 2, 3, 4, 5]\n",
    "\n",
    "my_tuple = tuple(my_list)\n",
    "\n",
    "print(\"List:\", my_list)\n",
    "print(\"Tuple:\", my_tuple)"
   ]
  },
  {
   "cell_type": "markdown",
   "id": "a64ae288",
   "metadata": {},
   "source": [
    "9. Unpack the elements of a tuple into variables.\n"
   ]
  },
  {
   "cell_type": "code",
   "execution_count": 443,
   "id": "c5d61fae",
   "metadata": {},
   "outputs": [
    {
     "name": "stdout",
     "output_type": "stream",
     "text": [
      "var1: 1\n",
      "var2: 2\n",
      "var3: 3\n",
      "var4: 4\n",
      "var5: 5\n"
     ]
    }
   ],
   "source": [
    "my_tuple = (1, 2, 3, 4, 5)\n",
    "var1, var2, var3, var4, var5 = my_tuple\n",
    "print(\"var1:\", var1)\n",
    "print(\"var2:\", var2)\n",
    "print(\"var3:\", var3)\n",
    "print(\"var4:\", var4)\n",
    "print(\"var5:\", var5)"
   ]
  },
  {
   "cell_type": "markdown",
   "id": "78331746",
   "metadata": {},
   "source": [
    "10. Create a tuple of even numbers from 1 to 10.\n"
   ]
  },
  {
   "cell_type": "code",
   "execution_count": 475,
   "id": "997028bb",
   "metadata": {},
   "outputs": [
    {
     "data": {
      "text/plain": [
       "(2, 4, 6, 8, 10)"
      ]
     },
     "execution_count": 475,
     "metadata": {},
     "output_type": "execute_result"
    }
   ],
   "source": [
    "tuple(i+2 for i in range(0, 10, 2))"
   ]
  },
  {
   "cell_type": "markdown",
   "id": "ddf3ab4c",
   "metadata": {},
   "source": [
    "11. Create a tuple of odd numbers from 1 to 10."
   ]
  },
  {
   "cell_type": "code",
   "execution_count": 478,
   "id": "34651024",
   "metadata": {},
   "outputs": [
    {
     "data": {
      "text/plain": [
       "(1, 3, 5, 7, 9)"
      ]
     },
     "execution_count": 478,
     "metadata": {},
     "output_type": "execute_result"
    }
   ],
   "source": [
    "tuple(i+2 for i in range(-1, 9, 2))"
   ]
  },
  {
   "cell_type": "markdown",
   "id": "2cc02e46",
   "metadata": {},
   "source": [
    "12. Concatenate two tuples."
   ]
  },
  {
   "cell_type": "code",
   "execution_count": 444,
   "id": "14300347",
   "metadata": {},
   "outputs": [
    {
     "name": "stdout",
     "output_type": "stream",
     "text": [
      "Concatenated tuple: (2, 4, 6, 1, 3, 5)\n"
     ]
    }
   ],
   "source": [
    "tuple1 = (2, 4, 6)\n",
    "tuple2 = (1, 3, 5)\n",
    "\n",
    "#Concatenate the two tuples\n",
    "concatenated_tuple = tuple1 + tuple2\n",
    "\n",
    "# Print the concatenated tuple\n",
    "print(\"Concatenated tuple:\", concatenated_tuple)"
   ]
  },
  {
   "cell_type": "markdown",
   "id": "00ada5be",
   "metadata": {},
   "source": [
    "13. Repeat a tuple three times.\n"
   ]
  },
  {
   "cell_type": "code",
   "execution_count": 446,
   "id": "4f3d72f0",
   "metadata": {},
   "outputs": [
    {
     "name": "stdout",
     "output_type": "stream",
     "text": [
      "(2, 4, 6, 2, 4, 6, 2, 4, 6)\n"
     ]
    }
   ],
   "source": [
    "my_tuple = (2, 4, 6)\n",
    "repeated_tuple = my_tuple*3\n",
    "print(repeated_tuple)"
   ]
  },
  {
   "cell_type": "markdown",
   "id": "05e03dac",
   "metadata": {},
   "source": [
    "14. Check if a tuple is empty."
   ]
  },
  {
   "cell_type": "code",
   "execution_count": 482,
   "id": "5b1a8fca",
   "metadata": {},
   "outputs": [
    {
     "name": "stdout",
     "output_type": "stream",
     "text": [
      "Tuple is NOT empty\n",
      "Tuple is empty\n"
     ]
    }
   ],
   "source": [
    "def isEmpty(tup):\n",
    "    if tup == ():\n",
    "        print(\"Tuple is empty\")\n",
    "    else:\n",
    "        print(\"Tuple is NOT empty\")\n",
    "        \n",
    "my_tuple = (2, 4, 6)\n",
    "isEmpty(my_tuple)\n",
    "\n",
    "tuple1 = ()\n",
    "isEmpty(tuple1)"
   ]
  },
  {
   "cell_type": "markdown",
   "id": "a2d81dd5",
   "metadata": {},
   "source": [
    "15. Create a nested tuple."
   ]
  },
  {
   "cell_type": "code",
   "execution_count": 486,
   "id": "3e1b4647",
   "metadata": {},
   "outputs": [
    {
     "name": "stdout",
     "output_type": "stream",
     "text": [
      "((1, 2, 3), (2, 3, 4), (4, 5, 6))\n"
     ]
    }
   ],
   "source": [
    "nested_tuple = tuple(((1,2,3), (2,3,4), (4,5,6)))\n",
    "print(nested_tuple)"
   ]
  },
  {
   "cell_type": "markdown",
   "id": "9cf3fefa",
   "metadata": {},
   "source": [
    "16. Access the first element of a nested tuple."
   ]
  },
  {
   "cell_type": "code",
   "execution_count": 487,
   "id": "d469960f",
   "metadata": {},
   "outputs": [
    {
     "data": {
      "text/plain": [
       "(1, 2, 3)"
      ]
     },
     "execution_count": 487,
     "metadata": {},
     "output_type": "execute_result"
    }
   ],
   "source": [
    "nested_tuple[0]"
   ]
  },
  {
   "cell_type": "markdown",
   "id": "f450b8e2",
   "metadata": {},
   "source": [
    "17. Create a tuple with a single element."
   ]
  },
  {
   "cell_type": "code",
   "execution_count": 496,
   "id": "1fe98a8a",
   "metadata": {},
   "outputs": [
    {
     "name": "stdout",
     "output_type": "stream",
     "text": [
      "(1,)\n"
     ]
    }
   ],
   "source": [
    "single_tup = tuple((1,))\n",
    "print(single_tup)"
   ]
  },
  {
   "cell_type": "markdown",
   "id": "2a582500",
   "metadata": {},
   "source": [
    "18. Compare two tuples."
   ]
  },
  {
   "cell_type": "code",
   "execution_count": 497,
   "id": "bc500aed",
   "metadata": {},
   "outputs": [
    {
     "name": "stdout",
     "output_type": "stream",
     "text": [
      "tuple1 == tuple2: False\n",
      "tuple1 != tuple2: True\n",
      "tuple1 < tuple2: False\n",
      "tuple1 <= tuple2: False\n",
      "tuple1 > tuple2: True\n",
      "tuple1 >= tuple2: True\n"
     ]
    }
   ],
   "source": [
    "tuple1 = (4, 3, 9)\n",
    "tuple2 = (4, 2, 0)\n",
    "\n",
    "print(\"tuple1 == tuple2:\", tuple1 == tuple2)\n",
    "print(\"tuple1 != tuple2:\", tuple1 != tuple2)\n",
    "print(\"tuple1 < tuple2:\", tuple1 < tuple2)  \n",
    "print(\"tuple1 <= tuple2:\", tuple1 <= tuple2)\n",
    "print(\"tuple1 > tuple2:\", tuple1 > tuple2)  \n",
    "print(\"tuple1 >= tuple2:\", tuple1 >= tuple2)"
   ]
  },
  {
   "cell_type": "markdown",
   "id": "7dec22a1",
   "metadata": {},
   "source": [
    "19. Delete a tuple."
   ]
  },
  {
   "cell_type": "code",
   "execution_count": 498,
   "id": "bef08777",
   "metadata": {},
   "outputs": [],
   "source": [
    "tuple1 = (4, 3, 9)\n",
    "\n",
    "del tuple1"
   ]
  },
  {
   "cell_type": "markdown",
   "id": "d3ad9bc9",
   "metadata": {},
   "source": [
    "20. Slice a tuple."
   ]
  },
  {
   "cell_type": "code",
   "execution_count": 499,
   "id": "434d4ab9",
   "metadata": {},
   "outputs": [
    {
     "data": {
      "text/plain": [
       "(9,)"
      ]
     },
     "execution_count": 499,
     "metadata": {},
     "output_type": "execute_result"
    }
   ],
   "source": [
    "tuple1 = (4, 3, 9)\n",
    "tuple1[2:]"
   ]
  },
  {
   "cell_type": "markdown",
   "id": "2b3c47e9",
   "metadata": {},
   "source": [
    "21. Find the maximum value in a tuple.\n"
   ]
  },
  {
   "cell_type": "code",
   "execution_count": 503,
   "id": "01934d49",
   "metadata": {},
   "outputs": [
    {
     "name": "stdout",
     "output_type": "stream",
     "text": [
      "Maximum vaue in  (4, 3, 9)  is  9\n"
     ]
    }
   ],
   "source": [
    "tuple1 = (4, 3, 9)\n",
    "\n",
    "print(\"Maximum vaue in \", tuple1, \" is \", max(tuple1))"
   ]
  },
  {
   "cell_type": "markdown",
   "id": "174a5205",
   "metadata": {},
   "source": [
    "22. Find the minimum value in a tuple.\n"
   ]
  },
  {
   "cell_type": "code",
   "execution_count": 504,
   "id": "b73cf79f",
   "metadata": {},
   "outputs": [
    {
     "name": "stdout",
     "output_type": "stream",
     "text": [
      "Minimum vaue in  (4, 3, 9)  is  3\n"
     ]
    }
   ],
   "source": [
    "tuple1 = (4, 3, 9)\n",
    "\n",
    "print(\"Minimum vaue in \", tuple1, \" is \", min(tuple1))"
   ]
  },
  {
   "cell_type": "markdown",
   "id": "b1589693",
   "metadata": {},
   "source": [
    "23. Convert a string to a tuple of characters.\n"
   ]
  },
  {
   "cell_type": "code",
   "execution_count": 506,
   "id": "81b7aae1",
   "metadata": {},
   "outputs": [
    {
     "name": "stdout",
     "output_type": "stream",
     "text": [
      "('M', 'y', ' ', 'n', 'a', 'm', 'e', ' ', 'i', 's', ' ', 'R', 'o', 'b', 'o', 't')\n"
     ]
    }
   ],
   "source": [
    "tuple1 = tuple(\"My name is Robot\")\n",
    "\n",
    "print(tuple1)"
   ]
  },
  {
   "cell_type": "markdown",
   "id": "94772827",
   "metadata": {},
   "source": [
    "24. Convert a tuple of characters to a string."
   ]
  },
  {
   "cell_type": "code",
   "execution_count": 508,
   "id": "5d1e72ae",
   "metadata": {},
   "outputs": [
    {
     "name": "stdout",
     "output_type": "stream",
     "text": [
      "My name is Robot\n"
     ]
    }
   ],
   "source": [
    "tuple1 = ('M', 'y', ' ', 'n', 'a', 'm', 'e', ' ', 'i', 's', ' ', 'R', 'o', 'b', 'o', 't')\n",
    "\n",
    "print(\"\".join(tuple1))"
   ]
  },
  {
   "cell_type": "markdown",
   "id": "a4c35855",
   "metadata": {},
   "source": [
    "25. Create a tuple from multiple data types.\n"
   ]
  },
  {
   "cell_type": "code",
   "execution_count": 509,
   "id": "ed3ead4e",
   "metadata": {},
   "outputs": [
    {
     "name": "stdout",
     "output_type": "stream",
     "text": [
      "('welcome', 'robo', 3.14, False, 123)\n"
     ]
    }
   ],
   "source": [
    "mixed_tuple = (\"welcome\", \"robo\", 3.14, False, 123)\n",
    "\n",
    "print(mixed_tuple)"
   ]
  },
  {
   "cell_type": "markdown",
   "id": "a6594bba",
   "metadata": {},
   "source": [
    "26. Check if two tuples are identical."
   ]
  },
  {
   "cell_type": "code",
   "execution_count": 510,
   "id": "16f14c7a",
   "metadata": {},
   "outputs": [
    {
     "name": "stdout",
     "output_type": "stream",
     "text": [
      "False\n",
      "True\n"
     ]
    }
   ],
   "source": [
    "tuple1 = (1,2,3)\n",
    "tuple2 = (3,4,5)\n",
    "tuple3 = (1,2,3)\n",
    "\n",
    "print(tuple1 == tuple2)\n",
    "print(tuple1 == tuple3)"
   ]
  },
  {
   "cell_type": "markdown",
   "id": "f502c58f",
   "metadata": {},
   "source": [
    "27. Sort the elements of a tuple.\n"
   ]
  },
  {
   "cell_type": "code",
   "execution_count": 511,
   "id": "179a4d84",
   "metadata": {},
   "outputs": [
    {
     "data": {
      "text/plain": [
       "[0, 1, 1, 2, 3, 3, 3, 4, 4, 6, 8]"
      ]
     },
     "execution_count": 511,
     "metadata": {},
     "output_type": "execute_result"
    }
   ],
   "source": [
    "tuple1 = (8,3,6,4,0,1,3,4,1,2,3)\n",
    "sorted(tuple1)"
   ]
  },
  {
   "cell_type": "markdown",
   "id": "c84bc1ed",
   "metadata": {},
   "source": [
    "28. Convert a tuple of integers to a tuple of strings.\n"
   ]
  },
  {
   "cell_type": "code",
   "execution_count": 513,
   "id": "9409ff2d",
   "metadata": {},
   "outputs": [
    {
     "name": "stdout",
     "output_type": "stream",
     "text": [
      "('8', '3', '6', '4', '0', '1', '3', '4', '1', '2', '3')\n"
     ]
    }
   ],
   "source": [
    "tuple1 = (8,3,6,4,0,1,3,4,1,2,3)\n",
    "\n",
    "tuple2 = tuple(str(item) for item in tuple1)\n",
    "\n",
    "print(tuple2)"
   ]
  },
  {
   "cell_type": "markdown",
   "id": "bf4940d4",
   "metadata": {},
   "source": [
    "29. Convert a tuple of strings to a tuple of integers.\n"
   ]
  },
  {
   "cell_type": "code",
   "execution_count": 514,
   "id": "9baac934",
   "metadata": {},
   "outputs": [
    {
     "name": "stdout",
     "output_type": "stream",
     "text": [
      "(8, 3, 6, 4, 0, 1, 3, 4, 1, 2, 3)\n"
     ]
    }
   ],
   "source": [
    "tuple1 = ('8', '3', '6', '4', '0', '1', '3', '4', '1', '2', '3')\n",
    "\n",
    "tuple2 = tuple(int(item) for item in tuple1)\n",
    "\n",
    "print(tuple2)"
   ]
  },
  {
   "cell_type": "markdown",
   "id": "9e6833dc",
   "metadata": {},
   "source": [
    "30. Merge two tuples.\n"
   ]
  },
  {
   "cell_type": "code",
   "execution_count": 516,
   "id": "636a9985",
   "metadata": {},
   "outputs": [
    {
     "name": "stdout",
     "output_type": "stream",
     "text": [
      "(8, 3, 6, 4, 0, 1, 3, 4, 1, 2, 3, 3, 4, 6, 7)\n"
     ]
    }
   ],
   "source": [
    "tuple1 = (8,3,6,4,0,1,3,4,1,2,3)\n",
    "\n",
    "tuple2 = (3,4,6,7)\n",
    "\n",
    "print(tuple1 + tuple2)"
   ]
  },
  {
   "cell_type": "markdown",
   "id": "a38a6b46",
   "metadata": {},
   "source": [
    "31. Flatten a nested tuple."
   ]
  },
  {
   "cell_type": "code",
   "execution_count": 530,
   "id": "65a040ca",
   "metadata": {},
   "outputs": [
    {
     "name": "stdout",
     "output_type": "stream",
     "text": [
      "(5, 1, 2, 6, 5, 6, 8, 3, 4, 5, 9, 6, 7, 8)\n"
     ]
    }
   ],
   "source": [
    "tuple1 = ((5,1, 2,6), (5,6,8,3, 4, 5), (9,6,7, 8))\n",
    "\n",
    "tuple2 = []\n",
    "for t in tuple1:\n",
    "    tuple2.extend(t)\n",
    "\n",
    "print(tuple(tuple2))"
   ]
  },
  {
   "cell_type": "markdown",
   "id": "ac191ef5",
   "metadata": {},
   "source": [
    "32. Create a tuple of the first 5 prime numbers."
   ]
  },
  {
   "cell_type": "code",
   "execution_count": 520,
   "id": "659af356",
   "metadata": {},
   "outputs": [
    {
     "name": "stdout",
     "output_type": "stream",
     "text": [
      "Tuple of the first 5 prime numbers: (2, 3, 5, 7, 11)\n"
     ]
    }
   ],
   "source": [
    "def is_prime(num):\n",
    "    if num <= 1:\n",
    "        return False\n",
    "    for i in range(2, int(num ** 0.5) + 1):\n",
    "        if num % i == 0:\n",
    "            return False\n",
    "    return True\n",
    "\n",
    "prime_numbers_list = [num for num in range(2, 100) if is_prime(num)][:5]\n",
    "prime_numbers_tuple = tuple(prime_numbers_list)\n",
    "\n",
    "print(\"Tuple of the first 5 prime numbers:\", prime_numbers_tuple)"
   ]
  },
  {
   "cell_type": "markdown",
   "id": "f1d0f1a9",
   "metadata": {},
   "source": [
    "33. Check if a tuple is a palindrome.\n"
   ]
  },
  {
   "cell_type": "code",
   "execution_count": 524,
   "id": "b1fec702",
   "metadata": {},
   "outputs": [
    {
     "name": "stdout",
     "output_type": "stream",
     "text": [
      "True\n",
      "False\n"
     ]
    }
   ],
   "source": [
    "tuple1 = (1,2,3,2,1)\n",
    "tuple2 = (14,5,6,7,8)\n",
    "\n",
    "print(tuple1 == tuple1[::-1])\n",
    "print(tuple2 == tuple2[::-1])"
   ]
  },
  {
   "cell_type": "markdown",
   "id": "0b3af9a6",
   "metadata": {},
   "source": [
    "34. Create a tuple of squares of numbers from 1 to 5."
   ]
  },
  {
   "cell_type": "code",
   "execution_count": 528,
   "id": "ac277f1a",
   "metadata": {},
   "outputs": [
    {
     "data": {
      "text/plain": [
       "(1, 4, 9, 16, 25)"
      ]
     },
     "execution_count": 528,
     "metadata": {},
     "output_type": "execute_result"
    }
   ],
   "source": [
    "tuple(i**2 for i in range(1,6))"
   ]
  },
  {
   "cell_type": "markdown",
   "id": "833e7dff",
   "metadata": {},
   "source": [
    "35. Filter out all even numbers from a tuple.\n"
   ]
  },
  {
   "cell_type": "code",
   "execution_count": 531,
   "id": "d798fdc0",
   "metadata": {},
   "outputs": [
    {
     "data": {
      "text/plain": [
       "(2, 6, 6, 8, 4, 6, 8)"
      ]
     },
     "execution_count": 531,
     "metadata": {},
     "output_type": "execute_result"
    }
   ],
   "source": [
    "tuple1 = (5, 1, 2, 6, 5, 6, 8, 3, 4, 5, 9, 6, 7, 8)\n",
    "\n",
    "tuple(i for i in tuple1 if i % 2 == 0)"
   ]
  },
  {
   "cell_type": "markdown",
   "id": "7a5c7c16",
   "metadata": {},
   "source": [
    "36. Multiply all elements in a tuple by 2."
   ]
  },
  {
   "cell_type": "code",
   "execution_count": 534,
   "id": "9f3dec1e",
   "metadata": {},
   "outputs": [
    {
     "data": {
      "text/plain": [
       "(10, 2, 4, 12, 10, 12, 16, 6, 8, 10, 18, 12, 14, 16)"
      ]
     },
     "execution_count": 534,
     "metadata": {},
     "output_type": "execute_result"
    }
   ],
   "source": [
    "tuple1 = (5, 1, 2, 6, 5, 6, 8, 3, 4, 5, 9, 6, 7, 8)\n",
    "\n",
    "tuple(i*2 for i in tuple1)"
   ]
  },
  {
   "cell_type": "markdown",
   "id": "f132b29e",
   "metadata": {},
   "source": [
    "37. Create a tuple of random numbers.\n"
   ]
  },
  {
   "cell_type": "code",
   "execution_count": 539,
   "id": "0da2fb58",
   "metadata": {},
   "outputs": [
    {
     "data": {
      "text/plain": [
       "(65, 1, 84, 30, 4, 72, 34, 46, 2, 17)"
      ]
     },
     "execution_count": 539,
     "metadata": {},
     "output_type": "execute_result"
    }
   ],
   "source": [
    "import random\n",
    "\n",
    "tuple(random.randint(1,100) for i in range(10))"
   ]
  },
  {
   "cell_type": "markdown",
   "id": "80c69c45",
   "metadata": {},
   "source": [
    "38. Check if a tuple is sorted.\n"
   ]
  },
  {
   "cell_type": "code",
   "execution_count": 544,
   "id": "2a691330",
   "metadata": {},
   "outputs": [
    {
     "name": "stdout",
     "output_type": "stream",
     "text": [
      "False\n",
      "True\n"
     ]
    }
   ],
   "source": [
    "tuple1 = (65, 1, 84, 30, 4, 72, 34, 46, 2, 17)\n",
    "tuple2 = (1, 2, 4, 17, 30, 34, 46, 65, 72, 84)\n",
    "\n",
    "print(tuple1 == tuple(sorted(tuple1)))\n",
    "print(tuple2 == tuple(sorted(tuple2)))"
   ]
  },
  {
   "cell_type": "markdown",
   "id": "8958c184",
   "metadata": {},
   "source": [
    "39. Rotate a tuple to the left by `n` positions.\n"
   ]
  },
  {
   "cell_type": "code",
   "execution_count": 547,
   "id": "72f5c1c0",
   "metadata": {},
   "outputs": [
    {
     "name": "stdout",
     "output_type": "stream",
     "text": [
      "(3, 4, 5, 1, 2)\n"
     ]
    }
   ],
   "source": [
    "tuple1 = (1, 2, 3, 4, 5)\n",
    "shift = 2\n",
    "\n",
    "n = shift % len(tuple1)\n",
    "rotated_tuple = tuple1[n:] + tuple1[:n]\n",
    "\n",
    "print(rotated_tuple)"
   ]
  },
  {
   "cell_type": "markdown",
   "id": "eaedfccf",
   "metadata": {},
   "source": [
    "40. Rotate a tuple to the right by `n` positions."
   ]
  },
  {
   "cell_type": "code",
   "execution_count": 549,
   "id": "93e84b21",
   "metadata": {},
   "outputs": [
    {
     "name": "stdout",
     "output_type": "stream",
     "text": [
      "(4, 5, 1, 2, 3)\n"
     ]
    }
   ],
   "source": [
    "tuple1 = (1, 2, 3, 4, 5)\n",
    "shift = 2\n",
    "\n",
    "n = shift % len(tuple1)\n",
    "rotated_tuple = tuple1[-n:] + tuple1[:-n]\n",
    "\n",
    "print(rotated_tuple)"
   ]
  },
  {
   "cell_type": "markdown",
   "id": "2f2c95b6",
   "metadata": {},
   "source": [
    "41. Create a tuple of the first 5 Fibonacci numbers.\n"
   ]
  },
  {
   "cell_type": "code",
   "execution_count": 551,
   "id": "f129ff7b",
   "metadata": {},
   "outputs": [
    {
     "name": "stdout",
     "output_type": "stream",
     "text": [
      "(0, 1, 1, 2, 3)\n"
     ]
    }
   ],
   "source": [
    "n= 5\n",
    "fibonacci = [0, 1]\n",
    "while len(fibonacci) < n:\n",
    "    next_number = fibonacci[-1] + fibonacci[-2]\n",
    "    fibonacci.append(next_number)\n",
    "\n",
    "print(tuple(fibonacci))"
   ]
  },
  {
   "cell_type": "markdown",
   "id": "8eb7c6bd",
   "metadata": {},
   "source": [
    "42. Create a tuple from user input.\n"
   ]
  },
  {
   "cell_type": "code",
   "execution_count": 552,
   "id": "ad0595ad",
   "metadata": {},
   "outputs": [
    {
     "name": "stdout",
     "output_type": "stream",
     "text": [
      "Enter elements1,2,3,4,7,8,9,0\n",
      "User input tuple: ('1', '2', '3', '4', '7', '8', '9', '0')\n"
     ]
    }
   ],
   "source": [
    "input_str = input(\"Enter elements\")\n",
    "input_list = input_str.split(',')\n",
    "user_tuple = tuple(input_list)\n",
    "\n",
    "print(\"User input tuple:\", user_tuple)"
   ]
  },
  {
   "cell_type": "markdown",
   "id": "7106d27c",
   "metadata": {},
   "source": [
    "43. Swap two elements in a tuple.\n"
   ]
  },
  {
   "cell_type": "code",
   "execution_count": 553,
   "id": "35c75fec",
   "metadata": {},
   "outputs": [
    {
     "name": "stdout",
     "output_type": "stream",
     "text": [
      "Swapped tuple: (1, 4, 3, 2, 5)\n"
     ]
    }
   ],
   "source": [
    "my_tuple = (1, 2, 3, 4, 5)\n",
    "\n",
    "\n",
    "index1 = 1\n",
    "index2 = 3\n",
    "swapped_tuple = tuple(\n",
    "    my_tuple[i] if i not in (index1, index2) else\n",
    "    my_tuple[index2] if i == index1 else\n",
    "    my_tuple[index1]\n",
    "    for i in range(len(my_tuple))\n",
    ")\n",
    "print(\"Swapped tuple:\", swapped_tuple)"
   ]
  },
  {
   "cell_type": "markdown",
   "id": "bee018c9",
   "metadata": {},
   "source": [
    "44. Reverse the elements of a tuple.\n"
   ]
  },
  {
   "cell_type": "code",
   "execution_count": 554,
   "id": "da629bd3",
   "metadata": {},
   "outputs": [
    {
     "name": "stdout",
     "output_type": "stream",
     "text": [
      "(5, 4, 3, 2, 1)\n"
     ]
    }
   ],
   "source": [
    "tuple1 =  (1, 2, 3, 4, 5)\n",
    "\n",
    "print(tuple1[::-1])"
   ]
  },
  {
   "cell_type": "markdown",
   "id": "5552396f",
   "metadata": {},
   "source": [
    "45. Create a tuple of the first `n` powers of 2.\n"
   ]
  },
  {
   "cell_type": "code",
   "execution_count": 555,
   "id": "5eb4e203",
   "metadata": {},
   "outputs": [
    {
     "name": "stdout",
     "output_type": "stream",
     "text": [
      "(1, 2, 4, 8, 16, 32, 64, 128, 256, 512)\n"
     ]
    }
   ],
   "source": [
    "n = 10\n",
    "\n",
    "pow_tuple = tuple(2 ** i for i in range(n))\n",
    "print(pow_tuple)"
   ]
  },
  {
   "cell_type": "markdown",
   "id": "25121b64",
   "metadata": {},
   "source": [
    "46. Find the longest string in a tuple of strings.\n"
   ]
  },
  {
   "cell_type": "code",
   "execution_count": 556,
   "id": "e5a2062a",
   "metadata": {},
   "outputs": [
    {
     "name": "stdout",
     "output_type": "stream",
     "text": [
      "Longest string: country\n"
     ]
    }
   ],
   "source": [
    "tuple1 = (\"hello\", \"world\", \"my\", \"country\", \"bharat\")\n",
    "\n",
    "print(\"longest string:\", max(tuple1, key=len))"
   ]
  },
  {
   "cell_type": "markdown",
   "id": "0e9a1532",
   "metadata": {},
   "source": [
    "47. Find the shortest string in a tuple of strings."
   ]
  },
  {
   "cell_type": "code",
   "execution_count": 557,
   "id": "b1497bd5",
   "metadata": {},
   "outputs": [
    {
     "name": "stdout",
     "output_type": "stream",
     "text": [
      "shortest string: my\n"
     ]
    }
   ],
   "source": [
    "tuple1 = (\"hello\", \"world\", \"my\", \"country\", \"bharat\")\n",
    "\n",
    "print(\"shortest string:\", min(tuple1, key=len))"
   ]
  },
  {
   "cell_type": "markdown",
   "id": "1328fc8e",
   "metadata": {},
   "source": [
    "48. Create a tuple of the first `n` triangular numbers.\n"
   ]
  },
  {
   "cell_type": "code",
   "execution_count": 558,
   "id": "65fd57d8",
   "metadata": {},
   "outputs": [
    {
     "name": "stdout",
     "output_type": "stream",
     "text": [
      "(1, 3, 6, 10, 15, 21, 28, 36)\n"
     ]
    }
   ],
   "source": [
    "n = 10\n",
    "\n",
    "trianglur = []\n",
    "for k in range(1, n+1):\n",
    "    count = 0\n",
    "    for i in range(1, k):\n",
    "        for j in range(1, i):\n",
    "            count +=1\n",
    "    if count > 0:\n",
    "        trianglur.append(count)\n",
    "print(tuple(trianglur))"
   ]
  },
  {
   "cell_type": "markdown",
   "id": "1119e195",
   "metadata": {},
   "source": [
    "49. Check if a tuple contains another tuple as a subsequence.\n"
   ]
  },
  {
   "cell_type": "code",
   "execution_count": 561,
   "id": "820a3649",
   "metadata": {},
   "outputs": [
    {
     "name": "stdout",
     "output_type": "stream",
     "text": [
      "yes, tuple2 is a subsequence of tuple1\n"
     ]
    }
   ],
   "source": [
    "tuple1 = (1, 2, 3, 4, 5, 6, 7, 8, 9)\n",
    "tuple2 = (3, 4, 5)\n",
    "\n",
    "t2_len = len(tuple2)\n",
    "for i in range(len(tuple1) - t2_len + 1):\n",
    "    if tuple1[i:i+t2_len] == tuple2:\n",
    "        print(\"yes, tuple2 is a subsequence of tuple1\")"
   ]
  },
  {
   "cell_type": "markdown",
   "id": "90eb25cb",
   "metadata": {},
   "source": [
    "50. Create a tuple of alternating 1s and 0s of length `n`."
   ]
  },
  {
   "cell_type": "code",
   "execution_count": 562,
   "id": "cc25f51e",
   "metadata": {},
   "outputs": [
    {
     "data": {
      "text/plain": [
       "(0, 1, 0, 1, 0, 1, 0, 1, 0, 1)"
      ]
     },
     "execution_count": 562,
     "metadata": {},
     "output_type": "execute_result"
    }
   ],
   "source": [
    "n = 10\n",
    "\n",
    "tuple(i % 2 for i in range(n))"
   ]
  },
  {
   "cell_type": "markdown",
   "id": "a445bb95",
   "metadata": {},
   "source": [
    "# Set Based Practice Problem :"
   ]
  },
  {
   "cell_type": "markdown",
   "id": "c32ac0a5",
   "metadata": {},
   "source": [
    "1. Create a set with integers from 1 to 5.\n"
   ]
  },
  {
   "cell_type": "code",
   "execution_count": 566,
   "id": "17b022a9",
   "metadata": {},
   "outputs": [
    {
     "name": "stdout",
     "output_type": "stream",
     "text": [
      "{1, 2, 3, 4, 5}\n"
     ]
    }
   ],
   "source": [
    "new_set = {i for i in range(1,6)}\n",
    "\n",
    "print(new_set)"
   ]
  },
  {
   "cell_type": "markdown",
   "id": "d0d3703e",
   "metadata": {},
   "source": [
    "2. Add an element to a set.\n",
    "\n"
   ]
  },
  {
   "cell_type": "code",
   "execution_count": 568,
   "id": "3e717f79",
   "metadata": {},
   "outputs": [
    {
     "name": "stdout",
     "output_type": "stream",
     "text": [
      "{1, 2, 3, 4, 5, 9}\n"
     ]
    }
   ],
   "source": [
    "new_set.add(9)\n",
    "\n",
    "print(new_set)"
   ]
  },
  {
   "cell_type": "markdown",
   "id": "d7e51145",
   "metadata": {},
   "source": [
    "3. Remove an element from a set.\n",
    "\n"
   ]
  },
  {
   "cell_type": "code",
   "execution_count": 570,
   "id": "4dcfff1b",
   "metadata": {},
   "outputs": [
    {
     "name": "stdout",
     "output_type": "stream",
     "text": [
      "{1, 3, 4, 5, 9}\n"
     ]
    }
   ],
   "source": [
    "new_set.remove(2)\n",
    "\n",
    "print(new_set)"
   ]
  },
  {
   "cell_type": "markdown",
   "id": "b863ffe8",
   "metadata": {},
   "source": [
    "4. Check if an element exists in a set.\n",
    "\n"
   ]
  },
  {
   "cell_type": "code",
   "execution_count": 579,
   "id": "5e90ddd9",
   "metadata": {},
   "outputs": [
    {
     "name": "stdout",
     "output_type": "stream",
     "text": [
      "Yes\n",
      "No\n"
     ]
    }
   ],
   "source": [
    "print(\"Yes\" if 3 in new_set else \"No\")\n",
    "print(\"Yes\" if 7 in new_set else \"No\")"
   ]
  },
  {
   "cell_type": "markdown",
   "id": "ae573a2d",
   "metadata": {},
   "source": [
    "5. Find the length of a set without using the `len()` function.\n"
   ]
  },
  {
   "cell_type": "code",
   "execution_count": 581,
   "id": "67fbc7f5",
   "metadata": {},
   "outputs": [
    {
     "name": "stdout",
     "output_type": "stream",
     "text": [
      "Length of the set  5\n"
     ]
    }
   ],
   "source": [
    "print(\"Length of the set: \", len(new_set))"
   ]
  },
  {
   "cell_type": "markdown",
   "id": "a208c9d4",
   "metadata": {},
   "source": [
    "6. Clear all elements from a set.\n",
    "\n"
   ]
  },
  {
   "cell_type": "code",
   "execution_count": 4,
   "id": "212899f7",
   "metadata": {},
   "outputs": [
    {
     "name": "stdout",
     "output_type": "stream",
     "text": [
      "set()\n"
     ]
    }
   ],
   "source": [
    "new_set = {1,2,3,4,5}\n",
    "new_set.clear()\n",
    "\n",
    "print(new_set)"
   ]
  },
  {
   "cell_type": "markdown",
   "id": "17f66c0a",
   "metadata": {},
   "source": [
    "7. Create a set of even numbers from 1 to 10.\n",
    "\n"
   ]
  },
  {
   "cell_type": "code",
   "execution_count": 6,
   "id": "86e0f774",
   "metadata": {},
   "outputs": [
    {
     "name": "stdout",
     "output_type": "stream",
     "text": [
      "{2, 4, 6, 8, 10}\n"
     ]
    }
   ],
   "source": [
    "even_numbers_set = set()\n",
    "for i in range(1, 11):\n",
    "    if i % 2 == 0:\n",
    "        even_numbers_set.add(i)\n",
    "print(even_numbers_set)"
   ]
  },
  {
   "cell_type": "markdown",
   "id": "a5482438",
   "metadata": {},
   "source": [
    "8. Create a set of odd numbers from 1 to 10.\n",
    "\n"
   ]
  },
  {
   "cell_type": "code",
   "execution_count": 7,
   "id": "e9f99b9c",
   "metadata": {},
   "outputs": [
    {
     "name": "stdout",
     "output_type": "stream",
     "text": [
      "{1, 3, 5, 7, 9}\n"
     ]
    }
   ],
   "source": [
    "odd_numbers_set = set()\n",
    "for i in range(0, 10):\n",
    "    if i % 2 != 0:\n",
    "        odd_numbers_set.add(i)\n",
    "print(odd_numbers_set)"
   ]
  },
  {
   "cell_type": "markdown",
   "id": "3ee6c39c",
   "metadata": {},
   "source": [
    "9. Find the union of two sets.\n",
    "\n"
   ]
  },
  {
   "cell_type": "code",
   "execution_count": 16,
   "id": "c106261c",
   "metadata": {},
   "outputs": [
    {
     "name": "stdout",
     "output_type": "stream",
     "text": [
      "{1, 2, 3, 4, 5, 6, 7, 8, 9, 10}\n"
     ]
    }
   ],
   "source": [
    "set1 = {2, 4, 6, 8, 10}\n",
    "set2 = {1, 3, 5, 7, 9}\n",
    "union_set = set1.union(set2)\n",
    "print(union_set)"
   ]
  },
  {
   "cell_type": "markdown",
   "id": "911341a8",
   "metadata": {},
   "source": [
    "10. Find the intersection of two sets."
   ]
  },
  {
   "cell_type": "code",
   "execution_count": 18,
   "id": "d22ba017",
   "metadata": {},
   "outputs": [
    {
     "name": "stdout",
     "output_type": "stream",
     "text": [
      "{2, 4}\n"
     ]
    }
   ],
   "source": [
    "set1 = {2, 4, 6, 8, 10}\n",
    "set2 = {1, 2, 3, 4, 5, 7, 9}\n",
    "intersection_set = set1.intersection(set2)\n",
    "print(intersection_set)"
   ]
  },
  {
   "cell_type": "markdown",
   "id": "78c182ce",
   "metadata": {},
   "source": [
    "11. Find the difference between two sets.\n",
    "\n"
   ]
  },
  {
   "cell_type": "code",
   "execution_count": 19,
   "id": "770b5a39",
   "metadata": {},
   "outputs": [
    {
     "name": "stdout",
     "output_type": "stream",
     "text": [
      "{8, 10, 6}\n"
     ]
    }
   ],
   "source": [
    "set1 = {2, 4, 6, 8, 10}\n",
    "set2 = {1, 2, 3, 4, 5, 7, 9}\n",
    "difference_set = set1.difference(set2)\n",
    "print(difference_set)"
   ]
  },
  {
   "cell_type": "markdown",
   "id": "c7271a54",
   "metadata": {},
   "source": [
    "12. Check if a set is a subset of another set.\n",
    "\n"
   ]
  },
  {
   "cell_type": "code",
   "execution_count": 24,
   "id": "a770f058",
   "metadata": {},
   "outputs": [
    {
     "name": "stdout",
     "output_type": "stream",
     "text": [
      "True\n"
     ]
    }
   ],
   "source": [
    "set1 = {1, 2, 3, 4, 5, 7, 9}\n",
    "set2 = {1,2, 3,4, 5,6,7, 8, 9,10}\n",
    "\n",
    "is_subset = set1.issubset(set2)\n",
    "print(is_subset)"
   ]
  },
  {
   "cell_type": "markdown",
   "id": "e6782a88",
   "metadata": {},
   "source": [
    "13. Check if a set is a superset of another set.\n"
   ]
  },
  {
   "cell_type": "code",
   "execution_count": 28,
   "id": "c253d953",
   "metadata": {},
   "outputs": [
    {
     "name": "stdout",
     "output_type": "stream",
     "text": [
      "True\n",
      "set1 is a superset of set2\n"
     ]
    }
   ],
   "source": [
    "set1 = {1,2, 3,4, 5,6,7, 8, 9,10}\n",
    "set2 = {1, 2, 3, 4, 5, 7, 9}\n",
    "\n",
    "is_superset = set1.issuperset(set2)\n",
    "print(is_superset)\n",
    "if is_superset:\n",
    "    print(\"set1 is a superset of set2\")\n",
    "else:\n",
    "    print(\"set1 is not a superset of set2\")"
   ]
  },
  {
   "cell_type": "markdown",
   "id": "806feb6d",
   "metadata": {},
   "source": [
    "14. Create a set from a list.\n",
    "\n"
   ]
  },
  {
   "cell_type": "code",
   "execution_count": 29,
   "id": "ca1b59aa",
   "metadata": {},
   "outputs": [
    {
     "name": "stdout",
     "output_type": "stream",
     "text": [
      "Original List: [1, 2, 3, 4, 5, 6]\n",
      "Set from List: {1, 2, 3, 4, 5, 6}\n"
     ]
    }
   ],
   "source": [
    "my_list = [1, 2, 3, 4, 5, 6]\n",
    "\n",
    "my_set = set(my_list)\n",
    "\n",
    "print(\"Original List:\", my_list)\n",
    "print(\"Set from List:\", my_set)"
   ]
  },
  {
   "cell_type": "markdown",
   "id": "2c069423",
   "metadata": {},
   "source": [
    "15. Convert a set to a list."
   ]
  },
  {
   "cell_type": "code",
   "execution_count": 32,
   "id": "4e804ad1",
   "metadata": {},
   "outputs": [
    {
     "name": "stdout",
     "output_type": "stream",
     "text": [
      "[1, 2, 3, 4, 5, 6]\n"
     ]
    }
   ],
   "source": [
    "my_set = {1, 2, 3, 4, 5, 6}\n",
    "my_list = list(my_set)\n",
    "print(my_list)"
   ]
  },
  {
   "cell_type": "markdown",
   "id": "9c562227",
   "metadata": {},
   "source": [
    "16. Remove a random element from a set.\n",
    "\n"
   ]
  },
  {
   "cell_type": "code",
   "execution_count": 35,
   "id": "5d65a847",
   "metadata": {},
   "outputs": [
    {
     "name": "stdout",
     "output_type": "stream",
     "text": [
      "{1, 2, 3, 4, 6}\n"
     ]
    }
   ],
   "source": [
    "my_set = {1, 2, 3, 4, 5, 6}\n",
    "my_set.remove(5)\n",
    "print(my_set)"
   ]
  },
  {
   "cell_type": "markdown",
   "id": "c5e87f56",
   "metadata": {},
   "source": [
    "17. Pop an element from a set.\n"
   ]
  },
  {
   "cell_type": "code",
   "execution_count": 39,
   "id": "d43f71a3",
   "metadata": {},
   "outputs": [
    {
     "name": "stdout",
     "output_type": "stream",
     "text": [
      "{2, 3, 4, 5, 6}\n"
     ]
    }
   ],
   "source": [
    "my_set = {1, 2, 3, 4, 5, 6}\n",
    "my_set.pop()\n",
    "print(my_set)"
   ]
  },
  {
   "cell_type": "markdown",
   "id": "e2477b70",
   "metadata": {},
   "source": [
    "18. Check if two sets have no elements in common.\n",
    "\n"
   ]
  },
  {
   "cell_type": "code",
   "execution_count": 41,
   "id": "54edc1d7",
   "metadata": {},
   "outputs": [
    {
     "name": "stdout",
     "output_type": "stream",
     "text": [
      "The two sets have common elements: {5}\n"
     ]
    }
   ],
   "source": [
    "set1 = {1,5, 2, 3, 4}\n",
    "set2 = {5, 6, 7, 8}\n",
    "\n",
    "common_elements = set1.intersection(set2)\n",
    "\n",
    "if not common_elements:\n",
    "    print(\"The two sets have no elements in common.\")\n",
    "else:\n",
    "    print(\"The two sets have common elements:\", common_elements)"
   ]
  },
  {
   "cell_type": "markdown",
   "id": "d230258e",
   "metadata": {},
   "source": [
    "19. Find the symmetric difference between two sets.\n"
   ]
  },
  {
   "cell_type": "code",
   "execution_count": 43,
   "id": "a1e9faa4",
   "metadata": {},
   "outputs": [
    {
     "name": "stdout",
     "output_type": "stream",
     "text": [
      "Symmetric Difference: {3, 6, 7, 8}\n"
     ]
    }
   ],
   "source": [
    "set1 = {1, 2, 3, 4, 5}\n",
    "set2 = {1, 2, 4, 5, 6, 7, 8}\n",
    "\n",
    "symmetric_difference = set1 ^ set2\n",
    "\n",
    "print(\"Symmetric Difference:\", symmetric_difference)"
   ]
  },
  {
   "cell_type": "markdown",
   "id": "45c1e419",
   "metadata": {},
   "source": [
    "20. Update a set with elements from another set.\n"
   ]
  },
  {
   "cell_type": "code",
   "execution_count": 45,
   "id": "bbfc0a72",
   "metadata": {},
   "outputs": [
    {
     "name": "stdout",
     "output_type": "stream",
     "text": [
      "Set 1: {1, 2, 3, 5, 7, 8, 9}\n",
      "Set 2: {3, 4, 5}\n",
      "Updated Set 1: {1, 2, 3, 4, 5, 7, 8, 9}\n"
     ]
    }
   ],
   "source": [
    "set1 = {1, 2, 3,5,7,9,8}\n",
    "print(\"Set 1:\", set1)\n",
    "\n",
    "set2 = {3, 4, 5}\n",
    "print(\"Set 2:\", set2)\n",
    "\n",
    "set1.update(set2)\n",
    "print(\"Updated Set 1:\", set1)"
   ]
  },
  {
   "cell_type": "markdown",
   "id": "0c5f7788",
   "metadata": {},
   "source": [
    "21. Create a set of the first 5 prime numbers."
   ]
  },
  {
   "cell_type": "code",
   "execution_count": 46,
   "id": "e00abd0a",
   "metadata": {},
   "outputs": [
    {
     "name": "stdout",
     "output_type": "stream",
     "text": [
      "Set of the first 5 prime numbers: {2, 3, 5, 7, 11}\n"
     ]
    }
   ],
   "source": [
    "def is_prime(num):\n",
    "    if num <= 1:\n",
    "        return False\n",
    "    for i in range(2, int(num ** 0.5) + 1):\n",
    "        if num % i == 0:\n",
    "            return False\n",
    "    return True\n",
    "\n",
    "\n",
    "prime_set = set()\n",
    "num = 2\n",
    "while len(prime_set) < 5:\n",
    "    if is_prime(num):\n",
    "        prime_set.add(num)\n",
    "    num += 1\n",
    "\n",
    "print(\"Set of the first 5 prime numbers:\", prime_set)"
   ]
  },
  {
   "cell_type": "markdown",
   "id": "4fa6e5d1",
   "metadata": {},
   "source": [
    "22. Check if two sets are identical.\n",
    "\n"
   ]
  },
  {
   "cell_type": "code",
   "execution_count": 48,
   "id": "99f438b3",
   "metadata": {},
   "outputs": [
    {
     "name": "stdout",
     "output_type": "stream",
     "text": [
      "set2 & set3 are identical\n"
     ]
    }
   ],
   "source": [
    "set1 = {1, 2, 3,5,7,9,8}\n",
    "set2 = {5, 3, 4}\n",
    "set3 = {3, 4, 5}\n",
    "\n",
    "if set1 == set2:\n",
    "    print(\"set1 & set2 are identical\")\n",
    "    \n",
    "if set2 == set3:\n",
    "    print(\"set2 & set3 are identical\")"
   ]
  },
  {
   "cell_type": "markdown",
   "id": "0c66ff60",
   "metadata": {},
   "source": [
    "23. Create a frozen set.\n",
    "\n"
   ]
  },
  {
   "cell_type": "code",
   "execution_count": 50,
   "id": "260b2ff7",
   "metadata": {},
   "outputs": [
    {
     "name": "stdout",
     "output_type": "stream",
     "text": [
      "frozenset({1, 2, 3, 5, 7, 8, 9})\n"
     ]
    }
   ],
   "source": [
    "set1 = {1, 2, 3,5,7,9,8}\n",
    "\n",
    "frozen = frozenset(set1)\n",
    "\n",
    "print(frozen)"
   ]
  },
  {
   "cell_type": "markdown",
   "id": "ed82d4a5",
   "metadata": {},
   "source": [
    "24. Check if a set is disjoint with another set.\n"
   ]
  },
  {
   "cell_type": "code",
   "execution_count": 52,
   "id": "6122a021",
   "metadata": {},
   "outputs": [
    {
     "data": {
      "text/plain": [
       "True"
      ]
     },
     "execution_count": 52,
     "metadata": {},
     "output_type": "execute_result"
    }
   ],
   "source": [
    "set1 = {1, 2, 3,5,7,9,8}\n",
    "set2 = {0, 4, 6}\n",
    "\n",
    "set1.isdisjoint(set2)"
   ]
  },
  {
   "cell_type": "markdown",
   "id": "afd4d61f",
   "metadata": {},
   "source": [
    "25. Create a set of squares of numbers from 1 to 5.\n"
   ]
  },
  {
   "cell_type": "code",
   "execution_count": 55,
   "id": "158bb917",
   "metadata": {},
   "outputs": [
    {
     "data": {
      "text/plain": [
       "{1, 4, 9, 16, 25}"
      ]
     },
     "execution_count": 55,
     "metadata": {},
     "output_type": "execute_result"
    }
   ],
   "source": [
    "{i**2 for i in range(1,6)}"
   ]
  },
  {
   "cell_type": "markdown",
   "id": "868efda0",
   "metadata": {},
   "source": [
    "26. Filter out all even numbers from a set.\n",
    "\n"
   ]
  },
  {
   "cell_type": "code",
   "execution_count": 58,
   "id": "16b60fc6",
   "metadata": {},
   "outputs": [
    {
     "name": "stdout",
     "output_type": "stream",
     "text": [
      "{64, 16, 4, 36}\n"
     ]
    }
   ],
   "source": [
    "set1 = {1, 4, 9, 16, 25, 36, 49, 64, 81}\n",
    "\n",
    "even_set = {i for i in set1 if i % 2 == 0 }\n",
    "\n",
    "print(even_set)"
   ]
  },
  {
   "cell_type": "markdown",
   "id": "fee7d553",
   "metadata": {},
   "source": [
    "27. Multiply all elements in a set by 2.\n"
   ]
  },
  {
   "cell_type": "code",
   "execution_count": 68,
   "id": "199795a3",
   "metadata": {},
   "outputs": [
    {
     "name": "stdout",
     "output_type": "stream",
     "text": [
      "{128, 32, 2, 98, 162, 8, 72, 18, 50}\n"
     ]
    }
   ],
   "source": [
    "set1 = {1, 4, 9, 16, 25, 36, 49, 64, 81}\n",
    "\n",
    "mul_set = {i *2 for i in set1}\n",
    "\n",
    "print(mul_set)"
   ]
  },
  {
   "cell_type": "markdown",
   "id": "68d3f917",
   "metadata": {},
   "source": [
    "28. Create a set of random numbers.\n",
    "\n"
   ]
  },
  {
   "cell_type": "code",
   "execution_count": 70,
   "id": "c6dca60a",
   "metadata": {},
   "outputs": [
    {
     "name": "stdout",
     "output_type": "stream",
     "text": [
      "{96, 67, 42, 75, 47, 48, 81, 80, 54, 26, 63}\n"
     ]
    }
   ],
   "source": [
    "import random\n",
    "\n",
    "random_set = {random.randint(10,100) for i in range(12)}\n",
    "\n",
    "print(random_set)"
   ]
  },
  {
   "cell_type": "markdown",
   "id": "3adf7bdb",
   "metadata": {},
   "source": [
    "29. Check if a set is empty.\n"
   ]
  },
  {
   "cell_type": "code",
   "execution_count": 72,
   "id": "825bde2a",
   "metadata": {},
   "outputs": [
    {
     "name": "stdout",
     "output_type": "stream",
     "text": [
      "Set is NOT empty\n",
      "Set is empty\n"
     ]
    }
   ],
   "source": [
    "set1 = {96, 67, 42, 75, 47, 48, 81, 80, 54, 26, 63}\n",
    "set2 = {}\n",
    "\n",
    "def check_empty(set1):\n",
    "    if set1:\n",
    "        print(\"Set is NOT empty\")\n",
    "    else:\n",
    "        print(\"Set is empty\")\n",
    "\n",
    "check_empty(set1)\n",
    "check_empty(set2)"
   ]
  },
  {
   "cell_type": "markdown",
   "id": "e84a970b",
   "metadata": {},
   "source": [
    "30. Create a nested set (hint: use frozenset)."
   ]
  },
  {
   "cell_type": "code",
   "execution_count": 73,
   "id": "037eaab2",
   "metadata": {},
   "outputs": [
    {
     "name": "stdout",
     "output_type": "stream",
     "text": [
      "Nested Set: {frozenset({2, 3, 6, 9, 10}), frozenset({0, 1, 4, 5, 9})}\n"
     ]
    }
   ],
   "source": [
    "set1 = {5, 4, 1, 9, 0}\n",
    "set2 = {6, 9, 2, 3, 10}\n",
    "\n",
    "frozen_set1 = frozenset(set1)\n",
    "frozen_set2 = frozenset(set2)\n",
    "nested_set = {frozen_set1, frozen_set2}\n",
    "print(\"Nested Set:\", nested_set)"
   ]
  },
  {
   "cell_type": "markdown",
   "id": "2c768c69",
   "metadata": {},
   "source": [
    "31. Remove an element from a set using the discard method."
   ]
  },
  {
   "cell_type": "code",
   "execution_count": 74,
   "id": "b4b5c311",
   "metadata": {},
   "outputs": [
    {
     "name": "stdout",
     "output_type": "stream",
     "text": [
      "{96, 67, 42, 47, 48, 81, 80, 54, 26, 63}\n"
     ]
    }
   ],
   "source": [
    "set1 = {96, 67, 42, 75, 47, 48, 81, 80, 54, 26, 63}\n",
    "\n",
    "set1.discard(75)\n",
    "\n",
    "print(set1)"
   ]
  },
  {
   "cell_type": "markdown",
   "id": "d615b594",
   "metadata": {},
   "source": [
    "32. Compare two sets.\n"
   ]
  },
  {
   "cell_type": "code",
   "execution_count": 75,
   "id": "1d5d7ee5",
   "metadata": {},
   "outputs": [
    {
     "name": "stdout",
     "output_type": "stream",
     "text": [
      "Sets are NOT equal\n"
     ]
    }
   ],
   "source": [
    "set1 = {5, 4, 1, 9, 0}\n",
    "set2 = {6, 9, 2, 3, 10}\n",
    "\n",
    "if set1 == set2:\n",
    "    print(\"Sets are equal\")\n",
    "else:\n",
    "    print(\"Sets are NOT equal\")"
   ]
  },
  {
   "cell_type": "markdown",
   "id": "7d7127af",
   "metadata": {},
   "source": [
    "33. Create a set from a string.\n"
   ]
  },
  {
   "cell_type": "code",
   "execution_count": 76,
   "id": "6fed5d3f",
   "metadata": {},
   "outputs": [
    {
     "name": "stdout",
     "output_type": "stream",
     "text": [
      "{'T', 'w', 'b', 'l', 'e', 'n', 't', 'd', ' ', 'v', 'o', 'h', 'c', 's', 'i', 'r'}\n"
     ]
    }
   ],
   "source": [
    "inp_string = \"This will be converted to set\"\n",
    "\n",
    "set1 = set(inp_string)\n",
    "\n",
    "print(set1)"
   ]
  },
  {
   "cell_type": "markdown",
   "id": "56b5d661",
   "metadata": {},
   "source": [
    "34. Convert a set of strings to a set of integers.\n"
   ]
  },
  {
   "cell_type": "code",
   "execution_count": 77,
   "id": "cb5c2be8",
   "metadata": {},
   "outputs": [
    {
     "name": "stdout",
     "output_type": "stream",
     "text": [
      "{34, 98, 4, 6, 8, 14}\n"
     ]
    }
   ],
   "source": [
    "str_set = {\"14\",\"6\",\"4\",\"8\",\"98\",\"34\"}\n",
    "\n",
    "int_set = {int(i) for i in str_set}\n",
    "\n",
    "print(int_set)"
   ]
  },
  {
   "cell_type": "markdown",
   "id": "c505c0ec",
   "metadata": {},
   "source": [
    "35. Convert a set of integers to a set of strings.\n"
   ]
  },
  {
   "cell_type": "code",
   "execution_count": 79,
   "id": "a72666d0",
   "metadata": {},
   "outputs": [
    {
     "name": "stdout",
     "output_type": "stream",
     "text": [
      "{'98', '4', '8', '14', '34', '6'}\n"
     ]
    }
   ],
   "source": [
    "int_set = {34, 98, 4, 6, 8, 14}\n",
    "\n",
    "str_set = {str(i) for i in int_set}\n",
    "\n",
    "print(str_set)"
   ]
  },
  {
   "cell_type": "markdown",
   "id": "75ef1ecc",
   "metadata": {},
   "source": [
    "36. Create a set from a tuple.\n"
   ]
  },
  {
   "cell_type": "code",
   "execution_count": 83,
   "id": "1e8e58f9",
   "metadata": {},
   "outputs": [
    {
     "name": "stdout",
     "output_type": "stream",
     "text": [
      "{34, 98, 4, 6, 8, 14}\n"
     ]
    }
   ],
   "source": [
    "tup_set = tuple((34, 98, 4, 6, 8, 14))\n",
    "\n",
    "set1 = set(tup_set)\n",
    "\n",
    "print(set1)"
   ]
  },
  {
   "cell_type": "markdown",
   "id": "b2d60c6c",
   "metadata": {},
   "source": [
    "37. Convert a set to a tuple."
   ]
  },
  {
   "cell_type": "code",
   "execution_count": 84,
   "id": "61130e47",
   "metadata": {},
   "outputs": [
    {
     "name": "stdout",
     "output_type": "stream",
     "text": [
      "(34, 98, 4, 6, 8, 14)\n"
     ]
    }
   ],
   "source": [
    "tup_set = {34, 98, 4, 6, 8, 14}\n",
    "\n",
    "tup = tuple(tup_set)\n",
    "\n",
    "print(tup)"
   ]
  },
  {
   "cell_type": "markdown",
   "id": "45e8ef5e",
   "metadata": {},
   "source": [
    "38. Find the maximum value in a set.\n"
   ]
  },
  {
   "cell_type": "code",
   "execution_count": 85,
   "id": "ff66221b",
   "metadata": {},
   "outputs": [
    {
     "name": "stdout",
     "output_type": "stream",
     "text": [
      "Maximum val in set:  96\n"
     ]
    }
   ],
   "source": [
    "set1 = {96, 67, 42, 75, 47, 48, 81, 80, 54, 26, 63}\n",
    "\n",
    "print(\"Maximum val in set: \", max(set1))"
   ]
  },
  {
   "cell_type": "markdown",
   "id": "700fbae1",
   "metadata": {},
   "source": [
    "\n",
    "39. Find the minimum value in a set.\n",
    "\n"
   ]
  },
  {
   "cell_type": "code",
   "execution_count": 86,
   "id": "6265e796",
   "metadata": {},
   "outputs": [
    {
     "name": "stdout",
     "output_type": "stream",
     "text": [
      "Minimum val in set:  26\n"
     ]
    }
   ],
   "source": [
    "set1 = {96, 67, 42, 75, 47, 48, 81, 80, 54, 26, 63}\n",
    "\n",
    "print(\"Minimum val in set: \", min(set1))"
   ]
  },
  {
   "cell_type": "markdown",
   "id": "14543350",
   "metadata": {},
   "source": [
    "40. Create a set from user input.\n"
   ]
  },
  {
   "cell_type": "code",
   "execution_count": 87,
   "id": "0c8f08df",
   "metadata": {},
   "outputs": [
    {
     "name": "stdout",
     "output_type": "stream",
     "text": [
      "Enter input for set2,3,5,6,8,9,3,5\n",
      "{'9', '5', '2', '8', '3', '6'}\n"
     ]
    }
   ],
   "source": [
    "set_inp = input(\"Enter input for set\")\n",
    "\n",
    "inp_list = set_inp.split(\",\")\n",
    "\n",
    "set1 = set(inp_list)\n",
    "\n",
    "print(set1)"
   ]
  },
  {
   "cell_type": "markdown",
   "id": "dad73845",
   "metadata": {},
   "source": [
    "41. Check if the intersection of two sets is empty.\n"
   ]
  },
  {
   "cell_type": "code",
   "execution_count": 91,
   "id": "dd4b5776",
   "metadata": {},
   "outputs": [
    {
     "name": "stdout",
     "output_type": "stream",
     "text": [
      "Intersection is NOT empty\n",
      "{9}\n"
     ]
    }
   ],
   "source": [
    "set1 = {5, 4, 1, 9, 0}\n",
    "set2 = {6, 9, 2, 3, 10}\n",
    "\n",
    "inter_set = set1.intersection(set2)\n",
    "\n",
    "if len(inter_set) > 0:\n",
    "    print(\"Intersection is NOT empty\")\n",
    "    print(inter_set)\n",
    "else:\n",
    "    print(\"Inntersection is empty\")\n",
    "    print(inter_set)"
   ]
  },
  {
   "cell_type": "markdown",
   "id": "b7ec580f",
   "metadata": {},
   "source": [
    "42. Create a set of the first 5 Fibonacci numbers.\n",
    "\n"
   ]
  },
  {
   "cell_type": "code",
   "execution_count": 92,
   "id": "772af1da",
   "metadata": {},
   "outputs": [
    {
     "name": "stdout",
     "output_type": "stream",
     "text": [
      "Set of the first 5 Fibonacci numbers: {0, 1, 2, 3, 5}\n"
     ]
    }
   ],
   "source": [
    "fibonacci_set = set()\n",
    "a, b = 0, 1\n",
    "\n",
    "for _ in range(6):\n",
    "    fibonacci_set.add(a)\n",
    "    a, b = b, a + b\n",
    "\n",
    "print(\"Set of the first 5 Fibonacci numbers:\", fibonacci_set)"
   ]
  },
  {
   "cell_type": "markdown",
   "id": "390ce18f",
   "metadata": {},
   "source": [
    "43. Remove duplicates from a list using sets.\n"
   ]
  },
  {
   "cell_type": "code",
   "execution_count": 94,
   "id": "acb3f62b",
   "metadata": {},
   "outputs": [
    {
     "name": "stdout",
     "output_type": "stream",
     "text": [
      "{1, 2, 3, 4, 5, 6, 7, 8, 9}\n"
     ]
    }
   ],
   "source": [
    "dup_list = [1,1,2,3,3,4,5,5,6,6,7,7,8,8,9,9,9]\n",
    "\n",
    "unique_list = set(dup_list)\n",
    "\n",
    "print(unique_list)"
   ]
  },
  {
   "cell_type": "markdown",
   "id": "c7ab17c0",
   "metadata": {},
   "source": [
    "44. Check if two sets have the same elements, regardless of their count.\n"
   ]
  },
  {
   "cell_type": "code",
   "execution_count": 102,
   "id": "077ccfbb",
   "metadata": {},
   "outputs": [
    {
     "data": {
      "text/plain": [
       "False"
      ]
     },
     "execution_count": 102,
     "metadata": {},
     "output_type": "execute_result"
    }
   ],
   "source": [
    "set1 = {4, 5, 6, 7, 8}\n",
    "set2 = {7, 6, 8}\n",
    "\n",
    "sorted(set1) == sorted(set2)"
   ]
  },
  {
   "cell_type": "markdown",
   "id": "bc64d3bf",
   "metadata": {},
   "source": [
    "45. Create a set of the first `n` powers of 2.\n"
   ]
  },
  {
   "cell_type": "code",
   "execution_count": 105,
   "id": "01d1ba31",
   "metadata": {},
   "outputs": [
    {
     "name": "stdout",
     "output_type": "stream",
     "text": [
      "[1, 2, 4, 8, 16, 32, 64, 128, 256, 512]\n"
     ]
    }
   ],
   "source": [
    "n = 10\n",
    "\n",
    "set1 = {2 ** i for i in range(10)}\n",
    "\n",
    "print(sorted(set1))"
   ]
  },
  {
   "cell_type": "markdown",
   "id": "20848f7b",
   "metadata": {},
   "source": [
    "46. Find the common elements between a set and a list.\n",
    "\n"
   ]
  },
  {
   "cell_type": "code",
   "execution_count": 107,
   "id": "b2536793",
   "metadata": {},
   "outputs": [
    {
     "name": "stdout",
     "output_type": "stream",
     "text": [
      "{8, 6, 7}\n"
     ]
    }
   ],
   "source": [
    "list1 = [4, 5, 6, 7, 8,9,0]\n",
    "set2 = {7, 6, 8}\n",
    "\n",
    "common_elements = set(list1).intersection(set2)\n",
    "\n",
    "print(common_elements)"
   ]
  },
  {
   "cell_type": "markdown",
   "id": "9c77e724",
   "metadata": {},
   "source": [
    "47. Create a set of the first `n` triangular numbers."
   ]
  },
  {
   "cell_type": "code",
   "execution_count": 111,
   "id": "63024744",
   "metadata": {},
   "outputs": [
    {
     "name": "stdout",
     "output_type": "stream",
     "text": [
      "[0, 1, 3, 6, 10, 15, 21, 28, 36]\n"
     ]
    }
   ],
   "source": [
    "n = 10\n",
    "\n",
    "triangular = set()\n",
    "\n",
    "for i in range(1,n+1):\n",
    "    count = 0\n",
    "    for j in range(1,i):\n",
    "        for k in range(1,j):\n",
    "            count +=1\n",
    "    triangular.add(count)\n",
    "\n",
    "print(sorted(triangular))"
   ]
  },
  {
   "cell_type": "markdown",
   "id": "5f4bea1e",
   "metadata": {},
   "source": [
    "48. Check if a set contains another set as a subset.\n",
    "\n"
   ]
  },
  {
   "cell_type": "code",
   "execution_count": 112,
   "id": "ee421b19",
   "metadata": {},
   "outputs": [
    {
     "name": "stdout",
     "output_type": "stream",
     "text": [
      "set2 is a subset of set1\n"
     ]
    }
   ],
   "source": [
    "set1 = {1, 2, 3, 4, 5}\n",
    "set2 = {3, 4}\n",
    "\n",
    "is_subset = set2.issubset(set1)\n",
    "\n",
    "if is_subset:\n",
    "    print(\"set2 is a subset of set1\")\n",
    "else:\n",
    "    print(\"set2 is not a subset of set1\")"
   ]
  },
  {
   "cell_type": "markdown",
   "id": "89e6951d",
   "metadata": {},
   "source": [
    "49. Create a set of alternating 1s and 0s of length `n`.\n"
   ]
  },
  {
   "cell_type": "code",
   "execution_count": 116,
   "id": "bef35fd4",
   "metadata": {},
   "outputs": [
    {
     "name": "stdout",
     "output_type": "stream",
     "text": [
      "{0, 1}\n"
     ]
    }
   ],
   "source": [
    "n = 20\n",
    "set_0_1 = {1 if i % 2 == 0 else 0 for i in range(n)}\n",
    "\n",
    "print(set_0_1)"
   ]
  },
  {
   "cell_type": "markdown",
   "id": "34d756cb",
   "metadata": {},
   "source": [
    "50. Merge multiple sets into one."
   ]
  },
  {
   "cell_type": "code",
   "execution_count": 118,
   "id": "0c16bf2a",
   "metadata": {},
   "outputs": [
    {
     "name": "stdout",
     "output_type": "stream",
     "text": [
      "{1, 2, 3, 4, 5, 6, 7, 8, 9, 10, 11, 12, 13}\n"
     ]
    }
   ],
   "source": [
    "set1 = {1, 2, 3}\n",
    "set2 = {3, 4, 5}\n",
    "set3 = {5, 6, 7}\n",
    "set4 = {8, 9, 10}\n",
    "set5 = {11, 12, 13}\n",
    "\n",
    "new_set = set1.union(set2, set3, set4, set5)\n",
    "\n",
    "print(new_set)"
   ]
  }
 ],
 "metadata": {
  "kernelspec": {
   "display_name": "Python 3 (ipykernel)",
   "language": "python",
   "name": "python3"
  },
  "language_info": {
   "codemirror_mode": {
    "name": "ipython",
    "version": 3
   },
   "file_extension": ".py",
   "mimetype": "text/x-python",
   "name": "python",
   "nbconvert_exporter": "python",
   "pygments_lexer": "ipython3",
   "version": "3.9.16"
  }
 },
 "nbformat": 4,
 "nbformat_minor": 5
}
