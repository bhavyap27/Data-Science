{
 "cells": [
  {
   "cell_type": "markdown",
   "id": "288ccb93-9cd3-4e0f-9f89-036d3089db4d",
   "metadata": {},
   "source": [
    "# TOPIC: Python Basics Variable"
   ]
  },
  {
   "cell_type": "markdown",
   "id": "e1ff0780-0837-4b4c-95eb-9d01d96b7d7f",
   "metadata": {},
   "source": [
    "1.Declare two variables, `x` and `y`, and assign them integer values. Swap the\n",
    "values of these variables without using any temporary variable."
   ]
  },
  {
   "cell_type": "code",
   "execution_count": 6,
   "id": "b0b417f1-5755-41c7-abca-e2bccdbffded",
   "metadata": {},
   "outputs": [
    {
     "name": "stdout",
     "output_type": "stream",
     "text": [
      "100 200\n"
     ]
    }
   ],
   "source": [
    "x=100\n",
    "y=200\n",
    "print(x,y)"
   ]
  },
  {
   "cell_type": "code",
   "execution_count": 8,
   "id": "dd062b46-f9ff-4541-9a2d-f39a5749b333",
   "metadata": {},
   "outputs": [
    {
     "name": "stdout",
     "output_type": "stream",
     "text": [
      "100 200\n"
     ]
    }
   ],
   "source": [
    "x,y=y,x\n",
    "print (x,y)"
   ]
  },
  {
   "cell_type": "markdown",
   "id": "218b4ea3-1262-437f-83af-5a1a8dd98e9d",
   "metadata": {},
   "source": [
    "2. Create a program that calculates the area of a rectangle. Take the length and\n",
    "width as inputs from the user and store them in variables. Calculate and\n",
    "display the area."
   ]
  },
  {
   "cell_type": "code",
   "execution_count": 15,
   "id": "6ea03990-7bcf-4fac-83a2-a1133f95f49e",
   "metadata": {},
   "outputs": [
    {
     "name": "stdin",
     "output_type": "stream",
     "text": [
      "Enter Length 20\n",
      "Enter Width 30\n"
     ]
    },
    {
     "name": "stdout",
     "output_type": "stream",
     "text": [
      "600\n"
     ]
    }
   ],
   "source": [
    "length=int(input(\"Enter Length\"))\n",
    "width=int(input(\"Enter Width\"))\n",
    "print(length*width)"
   ]
  },
  {
   "cell_type": "markdown",
   "id": "1f447c36-83f4-4349-b95c-5ee44beaf232",
   "metadata": {},
   "source": [
    "3. Write a Python program that converts temperatures from Celsius to\n",
    "Fahrenheit. Take the temperature in Celsius as input, store it in a variable,\n",
    "convert it to Fahrenheit, and display the result."
   ]
  },
  {
   "cell_type": "code",
   "execution_count": 43,
   "id": "f88b2d9e-0fb2-4e16-a9c2-3780fe4e3844",
   "metadata": {},
   "outputs": [
    {
     "name": "stdin",
     "output_type": "stream",
     "text": [
      " 25\n"
     ]
    },
    {
     "name": "stdout",
     "output_type": "stream",
     "text": [
      "25.0  is converted to 77.0\n"
     ]
    }
   ],
   "source": [
    "# Temperature in celsius degree\n",
    "celsius=float(input())\n",
    "f=(celsius*(9/5)) +32\n",
    "print(celsius, \" is converted to\", f)\n",
    "    "
   ]
  },
  {
   "cell_type": "markdown",
   "id": "326cd64a-fde5-4a7e-8150-803858596612",
   "metadata": {},
   "source": [
    "# TOPIC: String Based Questions"
   ]
  },
  {
   "cell_type": "markdown",
   "id": "09564f03-8018-4051-b856-890a05e37e42",
   "metadata": {},
   "source": [
    "1. Write a Python program that takes a string as input and prints the length of\n",
    "the string."
   ]
  },
  {
   "cell_type": "code",
   "execution_count": 1,
   "id": "51d52464-f054-4c5c-a0bf-4535f564a4e8",
   "metadata": {},
   "outputs": [
    {
     "name": "stdout",
     "output_type": "stream",
     "text": [
      "Bhavya\n"
     ]
    },
    {
     "data": {
      "text/plain": [
       "6"
      ]
     },
     "execution_count": 1,
     "metadata": {},
     "output_type": "execute_result"
    }
   ],
   "source": [
    "name=str(input())\n",
    "len(name)"
   ]
  },
  {
   "cell_type": "markdown",
   "id": "28622956-0f9d-4a6c-90c4-78beec1c8985",
   "metadata": {},
   "source": [
    "2. Create a program that takes a sentence from the user and counts the number\n",
    "of vowels (a, e, i, o, u) in the string."
   ]
  },
  {
   "cell_type": "code",
   "execution_count": 2,
   "id": "72c70c47-5c6c-41a8-a871-34f3198eb2e3",
   "metadata": {},
   "outputs": [
    {
     "name": "stdout",
     "output_type": "stream",
     "text": [
      "i am learning python from scratch\n",
      "8\n"
     ]
    }
   ],
   "source": [
    "#sentence = \"i am learning python from scratch\"\n",
    "sentence = str(input())\n",
    "len_sentence = len(sentence)\n",
    "\n",
    "new_sentence = sentence.replace(\"a\",\"\")\n",
    "\n",
    "new_sentence = new_sentence.replace(\"e\",\"\")\n",
    "new_sentence = new_sentence.replace(\"i\",\"\")\n",
    "new_sentence = new_sentence.replace(\"o\",\"\")\n",
    "new_sentence = new_sentence.replace(\"u\",\"\")\n",
    "\n",
    "print(len_sentence - len(new_sentence))"
   ]
  },
  {
   "cell_type": "markdown",
   "id": "b37620b9-8fe0-4ceb-b2b3-47c03be6e0f4",
   "metadata": {},
   "source": [
    "3. Given a string, reverse the order of characters using string slicing and print\n",
    "the reversed string."
   ]
  },
  {
   "cell_type": "code",
   "execution_count": 10,
   "id": "4f993589-6fd4-4524-88c0-ff28b14bd40e",
   "metadata": {},
   "outputs": [
    {
     "name": "stdout",
     "output_type": "stream",
     "text": [
      "original string-->  my name is bhavya\n",
      "reversed string--> ayvahb si eman ym \n"
     ]
    }
   ],
   "source": [
    "a1 = \" my name is bhavya\"\n",
    "print(\"original string-->\",a1)\n",
    "print(\"reversed string-->\",a1[::-1])"
   ]
  },
  {
   "cell_type": "markdown",
   "id": "5e8f3eee",
   "metadata": {},
   "source": [
    "\n",
    "4. Write a program that takes a string as input and checks if it is a palindrome (reads the same forwards and backwards)."
   ]
  },
  {
   "cell_type": "code",
   "execution_count": 13,
   "id": "4e43b336",
   "metadata": {},
   "outputs": [
    {
     "name": "stdout",
     "output_type": "stream",
     "text": [
      "nitin\n",
      "given string is palindrome\n"
     ]
    }
   ],
   "source": [
    "b1= str(input())\n",
    "if b1==b1[::-1]:\n",
    "    print(\"given string is palindrome\")\n",
    "else:\n",
    "    print(\"given string is not a palindrome\")"
   ]
  },
  {
   "cell_type": "markdown",
   "id": "3e4d3d1c",
   "metadata": {},
   "source": [
    "5. Create a program that takes a string as input and removes all the spaces fromit. Print the modified string without spaces."
   ]
  },
  {
   "cell_type": "code",
   "execution_count": 16,
   "id": "273be64e",
   "metadata": {},
   "outputs": [
    {
     "name": "stdout",
     "output_type": "stream",
     "text": [
      "input:   I am new to python\n",
      "output:  Iamnewtopython\n"
     ]
    }
   ],
   "source": [
    "c1 =\" I am new to python\"\n",
    "c2=c1.replace(\" \",\"\")\n",
    "print(\"input: \",c1)\n",
    "print(\"output: \",c2)"
   ]
  },
  {
   "cell_type": "code",
   "execution_count": null,
   "id": "c675409f",
   "metadata": {},
   "outputs": [],
   "source": []
  }
 ],
 "metadata": {
  "kernelspec": {
   "display_name": "Python 3 (ipykernel)",
   "language": "python",
   "name": "python3"
  },
  "language_info": {
   "codemirror_mode": {
    "name": "ipython",
    "version": 3
   },
   "file_extension": ".py",
   "mimetype": "text/x-python",
   "name": "python",
   "nbconvert_exporter": "python",
   "pygments_lexer": "ipython3",
   "version": "3.9.16"
  }
 },
 "nbformat": 4,
 "nbformat_minor": 5
}
